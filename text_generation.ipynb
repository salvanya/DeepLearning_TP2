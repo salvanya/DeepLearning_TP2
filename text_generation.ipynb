{
  "cells": [
    {
      "cell_type": "markdown",
      "metadata": {
        "id": "wcOUxZaY60yn"
      },
      "source": [
        "# Importar librerías"
      ]
    },
    {
      "cell_type": "code",
      "execution_count": 1,
      "metadata": {
        "colab": {
          "base_uri": "https://localhost:8080/",
          "height": 1000
        },
        "id": "Hes9xm5k8IL2",
        "outputId": "8bb772eb-8876-4732-ad2e-a55f2d3bc1ca"
      },
      "outputs": [
        {
          "name": "stdout",
          "output_type": "stream",
          "text": [
            "Requirement already satisfied: datasets in c:\\users\\leandro\\onedrive\\fceia\\inteligencia artificial\\año 3\\aprendizaje automático ii\\tp2\\deeplearning_tp2\\.venv\\lib\\site-packages (2.20.0)\n",
            "Requirement already satisfied: filelock in c:\\users\\leandro\\onedrive\\fceia\\inteligencia artificial\\año 3\\aprendizaje automático ii\\tp2\\deeplearning_tp2\\.venv\\lib\\site-packages (from datasets) (3.15.4)\n",
            "Requirement already satisfied: numpy>=1.17 in c:\\users\\leandro\\onedrive\\fceia\\inteligencia artificial\\año 3\\aprendizaje automático ii\\tp2\\deeplearning_tp2\\.venv\\lib\\site-packages (from datasets) (1.26.4)\n",
            "Requirement already satisfied: pyarrow>=15.0.0 in c:\\users\\leandro\\onedrive\\fceia\\inteligencia artificial\\año 3\\aprendizaje automático ii\\tp2\\deeplearning_tp2\\.venv\\lib\\site-packages (from datasets) (16.1.0)\n",
            "Requirement already satisfied: pyarrow-hotfix in c:\\users\\leandro\\onedrive\\fceia\\inteligencia artificial\\año 3\\aprendizaje automático ii\\tp2\\deeplearning_tp2\\.venv\\lib\\site-packages (from datasets) (0.6)\n",
            "Requirement already satisfied: dill<0.3.9,>=0.3.0 in c:\\users\\leandro\\onedrive\\fceia\\inteligencia artificial\\año 3\\aprendizaje automático ii\\tp2\\deeplearning_tp2\\.venv\\lib\\site-packages (from datasets) (0.3.8)\n",
            "Requirement already satisfied: pandas in c:\\users\\leandro\\onedrive\\fceia\\inteligencia artificial\\año 3\\aprendizaje automático ii\\tp2\\deeplearning_tp2\\.venv\\lib\\site-packages (from datasets) (2.2.2)\n",
            "Requirement already satisfied: requests>=2.32.2 in c:\\users\\leandro\\onedrive\\fceia\\inteligencia artificial\\año 3\\aprendizaje automático ii\\tp2\\deeplearning_tp2\\.venv\\lib\\site-packages (from datasets) (2.32.3)\n",
            "Requirement already satisfied: tqdm>=4.66.3 in c:\\users\\leandro\\onedrive\\fceia\\inteligencia artificial\\año 3\\aprendizaje automático ii\\tp2\\deeplearning_tp2\\.venv\\lib\\site-packages (from datasets) (4.66.4)\n",
            "Requirement already satisfied: xxhash in c:\\users\\leandro\\onedrive\\fceia\\inteligencia artificial\\año 3\\aprendizaje automático ii\\tp2\\deeplearning_tp2\\.venv\\lib\\site-packages (from datasets) (3.4.1)\n",
            "Requirement already satisfied: multiprocess in c:\\users\\leandro\\onedrive\\fceia\\inteligencia artificial\\año 3\\aprendizaje automático ii\\tp2\\deeplearning_tp2\\.venv\\lib\\site-packages (from datasets) (0.70.16)\n",
            "Requirement already satisfied: fsspec<=2024.5.0,>=2023.1.0 in c:\\users\\leandro\\onedrive\\fceia\\inteligencia artificial\\año 3\\aprendizaje automático ii\\tp2\\deeplearning_tp2\\.venv\\lib\\site-packages (from fsspec[http]<=2024.5.0,>=2023.1.0->datasets) (2024.5.0)\n",
            "Requirement already satisfied: aiohttp in c:\\users\\leandro\\onedrive\\fceia\\inteligencia artificial\\año 3\\aprendizaje automático ii\\tp2\\deeplearning_tp2\\.venv\\lib\\site-packages (from datasets) (3.9.5)\n",
            "Requirement already satisfied: huggingface-hub>=0.21.2 in c:\\users\\leandro\\onedrive\\fceia\\inteligencia artificial\\año 3\\aprendizaje automático ii\\tp2\\deeplearning_tp2\\.venv\\lib\\site-packages (from datasets) (0.23.4)\n",
            "Requirement already satisfied: packaging in c:\\users\\leandro\\onedrive\\fceia\\inteligencia artificial\\año 3\\aprendizaje automático ii\\tp2\\deeplearning_tp2\\.venv\\lib\\site-packages (from datasets) (24.1)\n",
            "Requirement already satisfied: pyyaml>=5.1 in c:\\users\\leandro\\onedrive\\fceia\\inteligencia artificial\\año 3\\aprendizaje automático ii\\tp2\\deeplearning_tp2\\.venv\\lib\\site-packages (from datasets) (6.0.1)\n",
            "Requirement already satisfied: aiosignal>=1.1.2 in c:\\users\\leandro\\onedrive\\fceia\\inteligencia artificial\\año 3\\aprendizaje automático ii\\tp2\\deeplearning_tp2\\.venv\\lib\\site-packages (from aiohttp->datasets) (1.3.1)\n",
            "Requirement already satisfied: attrs>=17.3.0 in c:\\users\\leandro\\onedrive\\fceia\\inteligencia artificial\\año 3\\aprendizaje automático ii\\tp2\\deeplearning_tp2\\.venv\\lib\\site-packages (from aiohttp->datasets) (23.2.0)\n",
            "Requirement already satisfied: frozenlist>=1.1.1 in c:\\users\\leandro\\onedrive\\fceia\\inteligencia artificial\\año 3\\aprendizaje automático ii\\tp2\\deeplearning_tp2\\.venv\\lib\\site-packages (from aiohttp->datasets) (1.4.1)\n",
            "Requirement already satisfied: multidict<7.0,>=4.5 in c:\\users\\leandro\\onedrive\\fceia\\inteligencia artificial\\año 3\\aprendizaje automático ii\\tp2\\deeplearning_tp2\\.venv\\lib\\site-packages (from aiohttp->datasets) (6.0.5)\n",
            "Requirement already satisfied: yarl<2.0,>=1.0 in c:\\users\\leandro\\onedrive\\fceia\\inteligencia artificial\\año 3\\aprendizaje automático ii\\tp2\\deeplearning_tp2\\.venv\\lib\\site-packages (from aiohttp->datasets) (1.9.4)\n",
            "Requirement already satisfied: typing-extensions>=3.7.4.3 in c:\\users\\leandro\\onedrive\\fceia\\inteligencia artificial\\año 3\\aprendizaje automático ii\\tp2\\deeplearning_tp2\\.venv\\lib\\site-packages (from huggingface-hub>=0.21.2->datasets) (4.12.2)\n",
            "Requirement already satisfied: charset-normalizer<4,>=2 in c:\\users\\leandro\\onedrive\\fceia\\inteligencia artificial\\año 3\\aprendizaje automático ii\\tp2\\deeplearning_tp2\\.venv\\lib\\site-packages (from requests>=2.32.2->datasets) (3.3.2)\n",
            "Requirement already satisfied: idna<4,>=2.5 in c:\\users\\leandro\\onedrive\\fceia\\inteligencia artificial\\año 3\\aprendizaje automático ii\\tp2\\deeplearning_tp2\\.venv\\lib\\site-packages (from requests>=2.32.2->datasets) (3.7)\n",
            "Requirement already satisfied: urllib3<3,>=1.21.1 in c:\\users\\leandro\\onedrive\\fceia\\inteligencia artificial\\año 3\\aprendizaje automático ii\\tp2\\deeplearning_tp2\\.venv\\lib\\site-packages (from requests>=2.32.2->datasets) (2.2.2)\n",
            "Requirement already satisfied: certifi>=2017.4.17 in c:\\users\\leandro\\onedrive\\fceia\\inteligencia artificial\\año 3\\aprendizaje automático ii\\tp2\\deeplearning_tp2\\.venv\\lib\\site-packages (from requests>=2.32.2->datasets) (2024.7.4)\n",
            "Requirement already satisfied: colorama in c:\\users\\leandro\\onedrive\\fceia\\inteligencia artificial\\año 3\\aprendizaje automático ii\\tp2\\deeplearning_tp2\\.venv\\lib\\site-packages (from tqdm>=4.66.3->datasets) (0.4.6)\n",
            "Requirement already satisfied: python-dateutil>=2.8.2 in c:\\users\\leandro\\onedrive\\fceia\\inteligencia artificial\\año 3\\aprendizaje automático ii\\tp2\\deeplearning_tp2\\.venv\\lib\\site-packages (from pandas->datasets) (2.9.0.post0)\n",
            "Requirement already satisfied: pytz>=2020.1 in c:\\users\\leandro\\onedrive\\fceia\\inteligencia artificial\\año 3\\aprendizaje automático ii\\tp2\\deeplearning_tp2\\.venv\\lib\\site-packages (from pandas->datasets) (2024.1)\n",
            "Requirement already satisfied: tzdata>=2022.7 in c:\\users\\leandro\\onedrive\\fceia\\inteligencia artificial\\año 3\\aprendizaje automático ii\\tp2\\deeplearning_tp2\\.venv\\lib\\site-packages (from pandas->datasets) (2024.1)\n",
            "Requirement already satisfied: six>=1.5 in c:\\users\\leandro\\onedrive\\fceia\\inteligencia artificial\\año 3\\aprendizaje automático ii\\tp2\\deeplearning_tp2\\.venv\\lib\\site-packages (from python-dateutil>=2.8.2->pandas->datasets) (1.16.0)\n"
          ]
        }
      ],
      "source": [
        "# Instalar librerías necesarias\n",
        "!pip install datasets"
      ]
    },
    {
      "cell_type": "code",
      "execution_count": 1,
      "metadata": {
        "id": "vkRjNZgrKtFD"
      },
      "outputs": [],
      "source": [
        "# Importar librerías requeridas\n",
        "import os\n",
        "import re\n",
        "import numpy as np\n",
        "import pandas as pd\n",
        "from datasets import load_dataset\n",
        "import tensorflow as tf\n",
        "from tensorflow.keras.callbacks import EarlyStopping, ModelCheckpoint\n",
        "from tensorflow.keras.layers import LSTM, Dense, Embedding\n",
        "from tensorflow.keras.models import Sequential, load_model\n",
        "from tensorflow.keras.preprocessing.text import Tokenizer\n",
        "from tensorflow.keras.preprocessing.sequence import pad_sequences"
      ]
    },
    {
      "cell_type": "markdown",
      "metadata": {
        "id": "EfCfUvmg6Ndl"
      },
      "source": [
        "# Sección 1: Preparación de los datos"
      ]
    },
    {
      "cell_type": "markdown",
      "metadata": {
        "id": "xBSzRioQ6YCC"
      },
      "source": [
        "## 1.1 Cargar el Dataset\n",
        "\n",
        "El conjunto de datos de AG News es una colección de artículos de noticias, un subconjunto, del corpus de artículos de noticias de AG. Contiene 120.000 muestras de entrenamiento y 7.600 muestras de prueba. Cada muestra se clasifica en una de cuatro clases: Mundo, Deportes, Negocios y Ciencia/Tecnología. Para nuestra tarea de generación de texto, nos centraremos en el contenido del texto, sin tener en cuenta las categorías.\n"
      ]
    },
    {
      "cell_type": "code",
      "execution_count": 3,
      "metadata": {
        "colab": {
          "base_uri": "https://localhost:8080/",
          "height": 281,
          "referenced_widgets": [
            "493880cb2555415f80e49ef0c666ef37",
            "33ce96d70eb5476ca439e96c42d00d53",
            "6b394c487d5d428380f697506d4ddd7d",
            "a941be09290a4a2b9a9bdfd05a82614a",
            "e18295246d3049579adf5eed0396a121",
            "8b929ca9c77c4d4a95de96ca50558b76",
            "1ca15d79950b42348a80529489db0eb7",
            "bf7ef185e7b349e59528ea5caebd7e67",
            "e2393140f8014203b1771c54b435f262",
            "5cf9a7cdfca14ec38f7f5a9d35b3f73f",
            "2aa93e9993fc48e1883544d1dc7b0f63",
            "0d5c0d61de4a4e82b9383d982265c3a3",
            "c2374e6d3d724de297a1bb3c9726c6e5",
            "8a57b4a6543e4f01b4ecd99588af74a0",
            "f7a0bc5d86af4bcebf72ba99ec4eadfd",
            "121cadf02bd04cbdaba3ff99b79e350e",
            "52e142f079e043f5b3046581ff2e05bd",
            "55ae1b96110a4c7fa852c4c6093b45a1",
            "a390bdf642fc4fec8be5df6f2de58924",
            "f879c65d761b49099d7d08f382d8c97f",
            "5fdde4bf78d744c692e18ebfc13577b0",
            "516d6a835fe441109cf603fce264033e",
            "a1fc1fee9382449993cb9e1a26437e43",
            "a49aa8f7d7d442b6ad8e65b2344c9cb8",
            "69f42750f9174f38882c07c698590960",
            "3d36da71e62b4573a81edb171587e746",
            "edb12634462049aca8efd00fb6db59a0",
            "3b327409e71247b888cb2a8f96786cf4",
            "551690f8fe284af694926435989fde0f",
            "b6796f6bdccc46c79d94324578d517b8",
            "218dad5de4694e1e83d822217b640ebb",
            "83c107bc1d914fc39d34e3fd9c3ad982",
            "a2201eeaa8b14b2992bfa0afe004a18e",
            "dc2f968d4f8c40df9a6d316bad20404c",
            "c9a81a71d0bb46e4bd812ae5c98a5423",
            "3b83faadcb9f4a9d9a5f4dceb0e23280",
            "43c1202f51e04bd1aaebed21654b786b",
            "f68864e6da90405c88fb521dd84ba2a8",
            "2c5421963a7441d98990fb876ad06aed",
            "6bfff95e6e364731bc831384652e6ae9",
            "84fa4d9b6ab7453dae676d61e6ee25d0",
            "da5ec38da9fa456e97795205a91ab465",
            "8d99a191960d467f97c12d9a9314250a",
            "879b2dd227834d72b6284584efa187be",
            "6fc673009a2c42ffa062813e77e99419",
            "d448ee2263fd433b9ed30d1d9743cce0",
            "e87c1fb12a9f40da9edbd8694fbdc862",
            "fa31643070a744b8829c751187bd0467",
            "230df5053da64053a86531b8aa01166f",
            "cf406ca0f811449db293f135eb96b33c",
            "a53772bc686c46cab5382ea31d10dc2c",
            "352cdd097d71427aaa638f8a1fe70f67",
            "4cb0b035b4c14ee7999fc0de93d24479",
            "2a1ddf53bc6a4513935ac2ede7be90da",
            "aa9e0f9cf12d4bd9ae46c31e35e094a3"
          ]
        },
        "id": "YmAT21jd6MQq",
        "outputId": "d818fa12-4a23-48bb-d54a-94930593dd32"
      },
      "outputs": [
        {
          "name": "stderr",
          "output_type": "stream",
          "text": [
            "/usr/local/lib/python3.10/dist-packages/huggingface_hub/utils/_token.py:89: UserWarning: \n",
            "The secret `HF_TOKEN` does not exist in your Colab secrets.\n",
            "To authenticate with the Hugging Face Hub, create a token in your settings tab (https://huggingface.co/settings/tokens), set it as secret in your Google Colab and restart your session.\n",
            "You will be able to reuse this secret in all of your notebooks.\n",
            "Please note that authentication is recommended but still optional to access public models or datasets.\n",
            "  warnings.warn(\n"
          ]
        },
        {
          "data": {
            "application/vnd.jupyter.widget-view+json": {
              "model_id": "493880cb2555415f80e49ef0c666ef37",
              "version_major": 2,
              "version_minor": 0
            },
            "text/plain": [
              "Downloading readme:   0%|          | 0.00/8.07k [00:00<?, ?B/s]"
            ]
          },
          "metadata": {},
          "output_type": "display_data"
        },
        {
          "data": {
            "application/vnd.jupyter.widget-view+json": {
              "model_id": "0d5c0d61de4a4e82b9383d982265c3a3",
              "version_major": 2,
              "version_minor": 0
            },
            "text/plain": [
              "Downloading data:   0%|          | 0.00/18.6M [00:00<?, ?B/s]"
            ]
          },
          "metadata": {},
          "output_type": "display_data"
        },
        {
          "data": {
            "application/vnd.jupyter.widget-view+json": {
              "model_id": "a1fc1fee9382449993cb9e1a26437e43",
              "version_major": 2,
              "version_minor": 0
            },
            "text/plain": [
              "Downloading data:   0%|          | 0.00/1.23M [00:00<?, ?B/s]"
            ]
          },
          "metadata": {},
          "output_type": "display_data"
        },
        {
          "data": {
            "application/vnd.jupyter.widget-view+json": {
              "model_id": "dc2f968d4f8c40df9a6d316bad20404c",
              "version_major": 2,
              "version_minor": 0
            },
            "text/plain": [
              "Generating train split:   0%|          | 0/120000 [00:00<?, ? examples/s]"
            ]
          },
          "metadata": {},
          "output_type": "display_data"
        },
        {
          "data": {
            "application/vnd.jupyter.widget-view+json": {
              "model_id": "6fc673009a2c42ffa062813e77e99419",
              "version_major": 2,
              "version_minor": 0
            },
            "text/plain": [
              "Generating test split:   0%|          | 0/7600 [00:00<?, ? examples/s]"
            ]
          },
          "metadata": {},
          "output_type": "display_data"
        }
      ],
      "source": [
        "# Cargar el dataset AG News\n",
        "dataset = load_dataset(\"ag_news\")\n",
        "\n",
        "# Convertir a un dataframe de Pandas\n",
        "df_train = pd.DataFrame(dataset['train'])\n",
        "df_test = pd.DataFrame(dataset['test'])"
      ]
    },
    {
      "cell_type": "code",
      "execution_count": 4,
      "metadata": {
        "colab": {
          "base_uri": "https://localhost:8080/"
        },
        "id": "H7Pls6jy6l4q",
        "outputId": "59d51638-5f34-42a8-ca6a-a3357cc51536"
      },
      "outputs": [
        {
          "name": "stdout",
          "output_type": "stream",
          "text": [
            "\n",
            "Forma del conjunto de entrenamiento: (120000, 2)\n",
            "Forma del conjunto de prueba: (7600, 2)\n",
            "\n",
            "Ejemplo de algunas muestras:\n",
            "                                                text  label\n",
            "0  Wall St. Bears Claw Back Into the Black (Reute...      2\n",
            "1  Carlyle Looks Toward Commercial Aerospace (Reu...      2\n",
            "2  Oil and Economy Cloud Stocks' Outlook (Reuters...      2\n",
            "3  Iraq Halts Oil Exports from Main Southern Pipe...      2\n",
            "4  Oil prices soar to all-time record, posing new...      2\n",
            "\n",
            "Etiquetas únicas\n",
            "[2 3 1 0]\n"
          ]
        }
      ],
      "source": [
        "# Mostrar información básica del dataset\n",
        "print(f\"\\nForma del conjunto de entrenamiento: {df_train.shape}\")\n",
        "print(f\"Forma del conjunto de prueba: {df_test.shape}\")\n",
        "print(\"\\nEjemplo de algunas muestras:\")\n",
        "print(df_train.head())\n",
        "\n",
        "# Mostrar etiquetas únicas\n",
        "print(\"\\nEtiquetas únicas\")\n",
        "print(df_train['label'].unique())"
      ]
    },
    {
      "cell_type": "markdown",
      "metadata": {
        "id": "5bkUk8327oQU"
      },
      "source": [
        "## 1.2 Preprocesamiento de los datos\n",
        "El preprocesamiento es un paso crucial en las tareas de procesamiento del lenguaje natural.\n",
        "\n",
        "Para nuestro modelo de generación de texto, necesitamos limpiar los datos de texto y convertirlos a un formato adecuado para el entrenamiento.\n",
        "\n",
        "Esto implica eliminar los caracteres innecesarios, convertirlos a minúsculas y tokenizar el texto.\n",
        "\n",
        "Haremos el preprocesamiento en simultáneo para el modelado a nivel de caracteres y para el modelado a nivel de palabras."
      ]
    },
    {
      "cell_type": "markdown",
      "metadata": {
        "id": "wpw5uKLkSJ2r"
      },
      "source": [
        "Limpiar el texto de entrenamiento para un modelo de generación de texto puede mejorar la calidad y eficiencia del modelo, pero no siempre es necesario eliminar todos los signos de puntuación. La decisión de limpiar o no el texto depende de varios factores, incluyendo el propósito del modelo y el tipo de texto que se está procesando.\n",
        "\n",
        "**Ventajas de Mantener los Signos de Puntuación**\n",
        "\n",
        "1. Los signos de puntuación como comas, puntos y signos de exclamación proporcionan un contexto importante y afectan al significado del texto. Eliminar estos signos puede resultar en la pérdida de información significativa.\n",
        "\n",
        "2. En muchos casos, los signos de puntuación ayudan a estructurar el texto de manera coherente y fluida, lo cual es crucial para la generación de texto natural y legible.\n",
        "\n",
        "3. Mantener los signos de puntuación puede ayudar al modelo a aprender a generar texto que suene más natural y esté mejor estructurado, lo que es particularmente útil en tareas de generación de texto como la escritura creativa o la generación de respuestas en chatbots.\n",
        "\n",
        "**Ventajas de Limpiar los Signos de Puntuación**\n",
        "\n",
        "1. Al eliminar signos de puntuación, el espacio de entrada se reduce, lo que puede simplificar el modelo y disminuir la carga computacional, especialmente en textos técnicos o de datos donde la puntuación puede no ser crucial.\n",
        "\n",
        "2. Limpiar el texto puede ayudar a estandarizarlo y reducir la variabilidad, lo que puede ser útil para mejorar la eficiencia del modelo y su capacidad para generalizar.\n",
        "\n",
        "Lo ideal sería mantener los signos de puntuación para generar un texto más coherente y real, pero esto se traduce diccionarios y modelos muchos más grandes. Necesitando más capacidad de cómputo para predecir la siguiente letra o palabra, capacidad de cómputo de la cual carecemos. Ya que el objetivo es comparar los enfoques del modelado a nivel de caracteres y a nivel de palabras, optamos por eliminar los signos de puntuación y los números."
      ]
    },
    {
      "cell_type": "code",
      "execution_count": 5,
      "metadata": {
        "colab": {
          "base_uri": "https://localhost:8080/"
        },
        "id": "W9Sa2sT27rzO",
        "outputId": "32bb5843-0d03-4d98-87e1-91cadb1ac5ff"
      },
      "outputs": [
        {
          "name": "stdout",
          "output_type": "stream",
          "text": [
            "Tamaño del vocabulario (a nivel de caracteres): 27\n",
            "Tamaño del vocabulario (a nivel de palabras): 91343\n",
            "\n",
            "Ejemplo preprocesado:\n",
            "wall st bears claw back into the black reuters reuters  shortsellers wall streets dwindlingband of ultracynics are seeing green again\n",
            "\n",
            "Tokenización a nivel de caracteres (primeros 50 tokens):\n",
            "[20, 3, 10, 10, 1, 6, 4, 1, 21, 2, 3, 9, 6, 1, 13, 10, 3, 20, 1, 21, 3, 13, 23, 1, 5, 8, 4, 7, 1, 4, 12, 2, 1, 21, 10, 3, 13, 23, 1, 9, 2, 14, 4, 2, 9, 6, 1, 9, 2, 14]\n",
            "\n",
            "Tokenización a nivel de palabras (primeros 10 tokens):\n",
            "[391, 324, 1525, 14260, 99, 54, 1, 812, 23, 23]\n"
          ]
        }
      ],
      "source": [
        "def preprocess_text(text):\n",
        "    # Convertir a minúscula\n",
        "    text = text.lower()\n",
        "    # Remover los caracteres especiales y los dígitos\n",
        "    text = re.sub(r\"[^a-zA-Z\\s]\", \"\", text)\n",
        "    return text\n",
        "\n",
        "# Preprocesar los textos\n",
        "df_train['processed_text'] = df_train['text'].apply(preprocess_text)\n",
        "df_test['processed_text'] = df_test['text'].apply(preprocess_text)\n",
        "\n",
        "# Tokenización a nivel de caracter\n",
        "char_tokenizer = Tokenizer(char_level=True)\n",
        "char_tokenizer.fit_on_texts(df_train['processed_text'])\n",
        "\n",
        "# Tokenización a nivel de palabras\n",
        "word_tokenizer = Tokenizer()\n",
        "word_tokenizer.fit_on_texts(df_train['processed_text'])\n",
        "\n",
        "print(\"Tamaño del vocabulario (a nivel de caracteres):\", len(char_tokenizer.word_index))\n",
        "print(\"Tamaño del vocabulario (a nivel de palabras):\", len(word_tokenizer.word_index))\n",
        "\n",
        "# Mostrar ejemplos preprocesados\n",
        "sample_text = df_train['processed_text'].iloc[0]\n",
        "print(\"\\nEjemplo preprocesado:\")\n",
        "print(sample_text)\n",
        "\n",
        "# Mostrar versiones tokenizadas\n",
        "char_seq = char_tokenizer.texts_to_sequences([sample_text])[0][:50]\n",
        "word_seq = word_tokenizer.texts_to_sequences([sample_text])[0][:10]\n",
        "\n",
        "print(\"\\nTokenización a nivel de caracteres (primeros 50 tokens):\")\n",
        "print(char_seq)\n",
        "print(\"\\nTokenización a nivel de palabras (primeros 10 tokens):\")\n",
        "print(word_seq)"
      ]
    },
    {
      "cell_type": "markdown",
      "metadata": {
        "id": "RMj0TH-m99yw"
      },
      "source": [
        "# Sección 2: Definición de los modelos"
      ]
    },
    {
      "cell_type": "markdown",
      "metadata": {
        "id": "wt7zrsSX9_Z3"
      },
      "source": [
        "## 2.1 Modelo a Nivel de Caracteres\n",
        "Nuestro modelo de Redes Neuronales Recurrentes (RNN) a nivel de caracteres estará basado en celdas LSTM (memoria larga a corto plazo). Aprenden a predecir el siguiente caracter de una secuencia, capturando patrones y relaciones entre caracteres. Las LSTM son particularmente útiles porque pueden mantener dependencias a largo plazo en el texto, lo cual es crucial para generar contenido coherente. En este modelo, cada carácter se representa como un vector codificado one-hot y la red aprende a predecir la distribución de probabilidad del siguiente carácter.\n",
        "\n"
      ]
    },
    {
      "cell_type": "code",
      "execution_count": 6,
      "metadata": {
        "colab": {
          "base_uri": "https://localhost:8080/",
          "height": 324
        },
        "id": "5dGKwoXk-Dm4",
        "outputId": "1502e202-e7c5-41c1-b5fe-ebfb0e62919c"
      },
      "outputs": [
        {
          "name": "stdout",
          "output_type": "stream",
          "text": [
            "Resumen del modelo a nivel de caracteres:\n"
          ]
        },
        {
          "name": "stderr",
          "output_type": "stream",
          "text": [
            "/usr/local/lib/python3.10/dist-packages/keras/src/layers/core/embedding.py:90: UserWarning: Argument `input_length` is deprecated. Just remove it.\n",
            "  warnings.warn(\n"
          ]
        },
        {
          "data": {
            "text/html": [
              "<pre style=\"white-space:pre;overflow-x:auto;line-height:normal;font-family:Menlo,'DejaVu Sans Mono',consolas,'Courier New',monospace\"><span style=\"font-weight: bold\">Model: \"sequential\"</span>\n",
              "</pre>\n"
            ],
            "text/plain": [
              "\u001b[1mModel: \"sequential\"\u001b[0m\n"
            ]
          },
          "metadata": {},
          "output_type": "display_data"
        },
        {
          "data": {
            "text/html": [
              "<pre style=\"white-space:pre;overflow-x:auto;line-height:normal;font-family:Menlo,'DejaVu Sans Mono',consolas,'Courier New',monospace\">┏━━━━━━━━━━━━━━━━━━━━━━━━━━━━━━━━━━━━━━┳━━━━━━━━━━━━━━━━━━━━━━━━━━━━━┳━━━━━━━━━━━━━━━━━┓\n",
              "┃<span style=\"font-weight: bold\"> Layer (type)                         </span>┃<span style=\"font-weight: bold\"> Output Shape                </span>┃<span style=\"font-weight: bold\">         Param # </span>┃\n",
              "┡━━━━━━━━━━━━━━━━━━━━━━━━━━━━━━━━━━━━━━╇━━━━━━━━━━━━━━━━━━━━━━━━━━━━━╇━━━━━━━━━━━━━━━━━┩\n",
              "│ embedding (<span style=\"color: #0087ff; text-decoration-color: #0087ff\">Embedding</span>)                │ ?                           │     <span style=\"color: #00af00; text-decoration-color: #00af00\">0</span> (unbuilt) │\n",
              "├──────────────────────────────────────┼─────────────────────────────┼─────────────────┤\n",
              "│ lstm (<span style=\"color: #0087ff; text-decoration-color: #0087ff\">LSTM</span>)                          │ ?                           │     <span style=\"color: #00af00; text-decoration-color: #00af00\">0</span> (unbuilt) │\n",
              "├──────────────────────────────────────┼─────────────────────────────┼─────────────────┤\n",
              "│ lstm_1 (<span style=\"color: #0087ff; text-decoration-color: #0087ff\">LSTM</span>)                        │ ?                           │     <span style=\"color: #00af00; text-decoration-color: #00af00\">0</span> (unbuilt) │\n",
              "├──────────────────────────────────────┼─────────────────────────────┼─────────────────┤\n",
              "│ dense (<span style=\"color: #0087ff; text-decoration-color: #0087ff\">Dense</span>)                        │ ?                           │     <span style=\"color: #00af00; text-decoration-color: #00af00\">0</span> (unbuilt) │\n",
              "└──────────────────────────────────────┴─────────────────────────────┴─────────────────┘\n",
              "</pre>\n"
            ],
            "text/plain": [
              "┏━━━━━━━━━━━━━━━━━━━━━━━━━━━━━━━━━━━━━━┳━━━━━━━━━━━━━━━━━━━━━━━━━━━━━┳━━━━━━━━━━━━━━━━━┓\n",
              "┃\u001b[1m \u001b[0m\u001b[1mLayer (type)                        \u001b[0m\u001b[1m \u001b[0m┃\u001b[1m \u001b[0m\u001b[1mOutput Shape               \u001b[0m\u001b[1m \u001b[0m┃\u001b[1m \u001b[0m\u001b[1m        Param #\u001b[0m\u001b[1m \u001b[0m┃\n",
              "┡━━━━━━━━━━━━━━━━━━━━━━━━━━━━━━━━━━━━━━╇━━━━━━━━━━━━━━━━━━━━━━━━━━━━━╇━━━━━━━━━━━━━━━━━┩\n",
              "│ embedding (\u001b[38;5;33mEmbedding\u001b[0m)                │ ?                           │     \u001b[38;5;34m0\u001b[0m (unbuilt) │\n",
              "├──────────────────────────────────────┼─────────────────────────────┼─────────────────┤\n",
              "│ lstm (\u001b[38;5;33mLSTM\u001b[0m)                          │ ?                           │     \u001b[38;5;34m0\u001b[0m (unbuilt) │\n",
              "├──────────────────────────────────────┼─────────────────────────────┼─────────────────┤\n",
              "│ lstm_1 (\u001b[38;5;33mLSTM\u001b[0m)                        │ ?                           │     \u001b[38;5;34m0\u001b[0m (unbuilt) │\n",
              "├──────────────────────────────────────┼─────────────────────────────┼─────────────────┤\n",
              "│ dense (\u001b[38;5;33mDense\u001b[0m)                        │ ?                           │     \u001b[38;5;34m0\u001b[0m (unbuilt) │\n",
              "└──────────────────────────────────────┴─────────────────────────────┴─────────────────┘\n"
            ]
          },
          "metadata": {},
          "output_type": "display_data"
        },
        {
          "data": {
            "text/html": [
              "<pre style=\"white-space:pre;overflow-x:auto;line-height:normal;font-family:Menlo,'DejaVu Sans Mono',consolas,'Courier New',monospace\"><span style=\"font-weight: bold\"> Total params: </span><span style=\"color: #00af00; text-decoration-color: #00af00\">0</span> (0.00 B)\n",
              "</pre>\n"
            ],
            "text/plain": [
              "\u001b[1m Total params: \u001b[0m\u001b[38;5;34m0\u001b[0m (0.00 B)\n"
            ]
          },
          "metadata": {},
          "output_type": "display_data"
        },
        {
          "data": {
            "text/html": [
              "<pre style=\"white-space:pre;overflow-x:auto;line-height:normal;font-family:Menlo,'DejaVu Sans Mono',consolas,'Courier New',monospace\"><span style=\"font-weight: bold\"> Trainable params: </span><span style=\"color: #00af00; text-decoration-color: #00af00\">0</span> (0.00 B)\n",
              "</pre>\n"
            ],
            "text/plain": [
              "\u001b[1m Trainable params: \u001b[0m\u001b[38;5;34m0\u001b[0m (0.00 B)\n"
            ]
          },
          "metadata": {},
          "output_type": "display_data"
        },
        {
          "data": {
            "text/html": [
              "<pre style=\"white-space:pre;overflow-x:auto;line-height:normal;font-family:Menlo,'DejaVu Sans Mono',consolas,'Courier New',monospace\"><span style=\"font-weight: bold\"> Non-trainable params: </span><span style=\"color: #00af00; text-decoration-color: #00af00\">0</span> (0.00 B)\n",
              "</pre>\n"
            ],
            "text/plain": [
              "\u001b[1m Non-trainable params: \u001b[0m\u001b[38;5;34m0\u001b[0m (0.00 B)\n"
            ]
          },
          "metadata": {},
          "output_type": "display_data"
        }
      ],
      "source": [
        "# Definir parámetros\n",
        "char_vocab_size = len(char_tokenizer.word_index) + 1\n",
        "char_embedding_dim = 50\n",
        "char_lstm_units = 128\n",
        "char_sequence_length = 100\n",
        "\n",
        "# Construir el modelo a nivel de caracteres\n",
        "char_model = Sequential([\n",
        "    Embedding(char_vocab_size, char_embedding_dim, input_length=char_sequence_length),\n",
        "    LSTM(char_lstm_units, return_sequences=True),\n",
        "    LSTM(char_lstm_units),\n",
        "    Dense(char_vocab_size, activation='softmax')\n",
        "])\n",
        "\n",
        "char_model.compile(loss='categorical_crossentropy', optimizer='adam')\n",
        "\n",
        "# Mostrar resumen del modelo\n",
        "print(\"Resumen del modelo a nivel de caracteres:\")\n",
        "char_model.summary()"
      ]
    },
    {
      "cell_type": "markdown",
      "metadata": {
        "id": "KUQcoPHkfagW"
      },
      "source": [
        "### **Explicación del modelo**\n",
        "#### **Capa de Embeddings**\n",
        "Esta capa convierte el vector one-hot disperso en un embadding, una representación densa y significativa. El modelo ve a cada caracter como un conjunto complejo de características. Estas características capturan relaciones sutiles entre caracters que el modelo puede usar más adelante.\n",
        "\n",
        "#### Parámetros\n",
        "\n",
        "**char_vocab_size:** Representa el tamaño del vocabulario de caracteres. Es el número total de caracteres únicos en el conjunto de datos, más uno para el token de inicio.\n",
        "\n",
        "**char_embedding_dim:** La dimensión de los embeddings de caracteres es 50. Esto significa que cada carácter se representa como un vector de 50 dimensiones.\n",
        "\n",
        "**char_sequence_length:** La longitud de la secuencia es 100. Esto indica que el modelo procesará secuencias de 100 caracteres a la vez.\n",
        "\n",
        "#### **Primera capa LSTM:**\n",
        "Esta capa actúa como un recopilador de contexto. A medida que lee la secuencia de embeddings, realiza un seguimiento de patrones y relaciones importantes en distancias cortas y largas en el texto.\n",
        "\n",
        "#### Parámetros\n",
        "\n",
        "**char_lstm_units:** Cada capa LSTM tendrá 128 unidades, lo que define la capacidad de la red para captar patrones y dependencias en los datos.\n",
        "\n",
        "**return_sequences=True:** Indica que la capa LSTM debe devolver la secuencia completa de salidas para cada paso de tiempo, no solo la última. Es necesario para que la próxima capa LSTM procese toda la secuencia de manera recurrente.\n",
        "\n",
        "#### **Segunda capa LSTM:**\n",
        "Esta capa es un analizador más profundo. Toma la información contextual del primer LSTM y la refina aún más.\n",
        "\n",
        "#### **Capa densa:**\n",
        "Esta capa final densa es el predictor. Considera todos los caracteres posibles y asigna una probabilidad a cada uno, basándose en todo lo que ha aprendido de la secuencia.\n",
        "\n",
        "#### Parámetros\n",
        "\n",
        "**units = char_vocab_size:** El número de unidades en la capa densa es igual al tamaño del vocabulario. Esto asegura que haya una probabilidad de salida para cada carácter en el vocabulario.\n",
        "\n",
        "**activation='softmax':** La activación softmax convierte las salidas en probabilidades, sumando a 1, para la predicción del siguiente carácter en la secuencia.\n",
        "\n",
        "#### **Configuración del modelo**\n",
        "\n",
        "#### Parámetros\n",
        "\n",
        "**loss='categorical_crossentropy':** Se utiliza la función de pérdida de entropía cruzada categórica porque estamos trabajando con un problema de clasificación múltiple (predicción del siguiente carácter).\n",
        "\n",
        "**optimizer='adam':** Se utiliza el optimizador Adam, que es el algoritmo de optimización que ajusta individualmente los pesos del modelo basado en el error y con momentum, proporcionando una convergencia rápida y estable."
      ]
    },
    {
      "cell_type": "markdown",
      "metadata": {
        "id": "MbMssWm8-FFV"
      },
      "source": [
        "## 2.2 Modelo a nivel de palabras\n",
        "\n",
        "El modelo a nivel de palabras opera en un nivel más alto de abstracción en comparación con el modelo a nivel de caracter. En lugar de predecir el siguiente carácter, predice la siguiente palabra en una secuencia. Este enfoque tiene el potencial de capturar las relaciones semánticas entre palabras de manera más efectiva. Cada palabra se representa como un embedding, lo que permite que el modelo aprenda representaciones significativas de palabras en un espacio vectorial continuo."
      ]
    },
    {
      "cell_type": "code",
      "execution_count": 7,
      "metadata": {
        "colab": {
          "base_uri": "https://localhost:8080/"
        },
        "id": "FuwMmEe4-KbY",
        "outputId": "557e7c2f-0559-45b9-c074-b850881977cb"
      },
      "outputs": [
        {
          "name": "stdout",
          "output_type": "stream",
          "text": [
            "\n",
            "Resumen del modelo a nivel de palabras:\n",
            "Model: \"sequential_1\"\n",
            "_________________________________________________________________\n",
            " Layer (type)                Output Shape              Param #   \n",
            "=================================================================\n",
            " embedding_1 (Embedding)     (None, 20, 100)           9134400   \n",
            "                                                                 \n",
            " lstm_2 (LSTM)               (None, 20, 256)           365568    \n",
            "                                                                 \n",
            " lstm_3 (LSTM)               (None, 256)               525312    \n",
            "                                                                 \n",
            " dense_1 (Dense)             (None, 91344)             23475408  \n",
            "                                                                 \n",
            "=================================================================\n",
            "Total params: 33500688 (127.79 MB)\n",
            "Trainable params: 33500688 (127.79 MB)\n",
            "Non-trainable params: 0 (0.00 Byte)\n",
            "_________________________________________________________________\n"
          ]
        }
      ],
      "source": [
        "# Definir parámetros\n",
        "word_vocab_size = len(word_tokenizer.word_index) + 1\n",
        "word_embedding_dim = 100\n",
        "word_lstm_units = 256\n",
        "word_sequence_length = 20\n",
        "\n",
        "# Construir el modelo a nivel de palabras\n",
        "word_model = Sequential([\n",
        "    Embedding(word_vocab_size, word_embedding_dim, input_length=word_sequence_length),\n",
        "    LSTM(word_lstm_units, return_sequences=True),\n",
        "    LSTM(word_lstm_units),\n",
        "    Dense(word_vocab_size, activation='softmax')\n",
        "])\n",
        "\n",
        "word_model.compile(loss='categorical_crossentropy', optimizer='adam')\n",
        "\n",
        "# Mostrar el resumen del modelo:\n",
        "print(\"\\nResumen del modelo a nivel de palabras:\")\n",
        "word_model.summary()"
      ]
    },
    {
      "cell_type": "markdown",
      "metadata": {
        "id": "qzrNxrvf1W8_"
      },
      "source": [
        "### **Explicación del modelo**\n",
        "\n",
        "#### **Capa de Embedding:**\n",
        "Toma cada vector de palabra indexada y la transforma en una representación compacta y signigicativa. En lugar de ver las palabras como unidades aisladas, el modelo ahora percibe cada palabra como un conjunto de características. Estas características capturan las relaciones semánticas entre palabras, lo que permite que el modelo comprenda matices como sinónimos, antónimos o palabras que se usan a menudo en contextos similares.\n",
        "\n",
        "#### Parámetros\n",
        "\n",
        "**word_vocab_size:** Es el tamaño del vocabulario de palabras. Es el número total de palabras únicas en el conjunto de datos más uno, para un índice adicional para el token de inicio (o final).\n",
        "\n",
        "**word_embedding_dim:** La dimensión de los embeddings de palabras es 100. Cada palabra se representa como un vector de 100 elementos.\n",
        "\n",
        "**word_sequence_length:** La longitud de la secuencia es 20. Esto significa que el modelo procesa secuencias de 20 palabras a la vez.\n",
        "\n",
        "\n",
        "\n",
        "---\n",
        "\n",
        "\n",
        "\n",
        "El resto es igual que en el modelo a nivel de caracteres, con las salvedades de lo que representa cada vector de embedding.\n",
        "\n",
        "En esencia, este modelo consiste en leer una secuencia de palabras, desarrollar una comprensión del significado, el contexto y la estructura del texto y luego utilizar esa comprensión para predecir la siguiente palabra.\n",
        "\n",
        "La principal diferencia con el modelo a nivel de caracteres es que éste opera en un nivel superior de abstracción. En lugar de aprender sobre las relaciones entre caracteres, se aprende sobre las relaciones entre palabras. Esto le permite capturar patrones lingüísticos más complejos y potencialmente comprender conceptos de nivel superior."
      ]
    },
    {
      "cell_type": "markdown",
      "metadata": {
        "id": "MvsX4QqJ-2Z5"
      },
      "source": [
        "# Sección 3: Entrenamiento de los modelos\n"
      ]
    },
    {
      "cell_type": "markdown",
      "metadata": {
        "id": "el-Ql3Ui-6V7"
      },
      "source": [
        "## 3.1 Generación de datos\n",
        "Preparing data for training sequence models involves creating input-output pairs where the input is a sequence of characters or words, and the output is the next character or word. We'll use a sliding window approach to generate these sequences from our preprocessed text data. For character-level models, we'll create overlapping sequences of characters. For word-level models, we'll create sequences of words. This process ensures that our models learn to predict the next token based on the previous context.\n",
        "\n",
        "To handle large datasets efficiently, we'll use generators to create our training sequences. This approach allows us to generate data on-the-fly during training, significantly reducing memory usage. We'll create separate generators for character-level and word-level models, each yielding batches of input-output pairs as needed during the training process.\n",
        "\n",
        "\n",
        "La preparación de datos para entrenar modelos secuenciales implica la creación de pares de entrada y salida donde la entrada es una secuencia de caracteres o palabras y la salida es el siguiente carácter o palabra. Vamos a usar el enfoque de ventana deslizante para generar estas secuencias a partir de los datos de los textos preprocesados. Para el modelo a nivel de caracteres, crearemos secuencias de caracteres superpuestas. Para el modelo a nivel de palabras, crearemos secuencias de palabras. Este proceso permite que nuestros modelos aprendan a predecir el siguiente token en función del contexto anterior.\n",
        "\n",
        "Para manejar grandes conjuntos de datos de manera eficiente, usaremos generadores para crear nuestras secuencias de entrenamiento. Este enfoque nos permite generar datos sobre la marcha durante el entrenamiento, lo que reduce significativamente el uso de memoria y optimizar el uso de recurosos de los cuales carecemos. Crearemos generadores separados para modelos a nivel de caracteres y a nivel de palabras, cada uno de los cuales generará lotes de pares de entrada y salida según sea necesario durante el proceso de capacitación."
      ]
    },
    {
      "cell_type": "code",
      "execution_count": 8,
      "metadata": {
        "colab": {
          "base_uri": "https://localhost:8080/"
        },
        "id": "XLvK6XTm-9w1",
        "outputId": "eca52fb7-8d32-4e8e-aba8-9cce55013d0d"
      },
      "outputs": [
        {
          "name": "stdout",
          "output_type": "stream",
          "text": [
            "Pasos por epoch para el modelo a nivel de caracteres: 118185\n",
            "Pasos por epoch para el modelo a nivel de palabras: 15722\n",
            "\n",
            "Forma del batch de ejemplo del modelo a nivel de caracteres:\n",
            "X: (33, 100), y: (33, 28)\n",
            "\n",
            "Forma del batch de ejemplo del modelo a nivel de palabras:\n",
            "X: (15, 20), y: (15, 91344)\n"
          ]
        }
      ],
      "source": [
        "def sequence_generator(texts, tokenizer, seq_length, batch_size, char_level=True):\n",
        "    sequences = tokenizer.texts_to_sequences(texts)\n",
        "    vocab_size = len(tokenizer.word_index) + 1\n",
        "    while True:\n",
        "        for sequence in sequences:\n",
        "            n_samples = len(sequence) - seq_length\n",
        "            if n_samples <= 0:\n",
        "                continue\n",
        "            for i in range(0, n_samples, batch_size):\n",
        "                batch_end = min(i + batch_size, n_samples)\n",
        "                X = np.zeros((batch_end - i, seq_length), dtype=np.int32)\n",
        "                y = np.zeros((batch_end - i, vocab_size), dtype=np.float32)\n",
        "                for j in range(i, batch_end):\n",
        "                    X[j-i] = sequence[j:j+seq_length]\n",
        "                    y[j-i, sequence[j+seq_length]] = 1\n",
        "                yield X, y\n",
        "\n",
        "# Crear generadores\n",
        "char_seq_gen = sequence_generator(df_train['processed_text'], char_tokenizer, char_sequence_length, 128)\n",
        "word_seq_gen = sequence_generator(df_train['processed_text'], word_tokenizer, word_sequence_length, 128, char_level=False)\n",
        "\n",
        "# Calcular pasos por epoch\n",
        "char_steps = sum(max(0, len(seq) - char_sequence_length) for seq in char_tokenizer.texts_to_sequences(df_train['processed_text'])) // 128\n",
        "word_steps = sum(max(0, len(seq) - word_sequence_length) for seq in word_tokenizer.texts_to_sequences(df_train['processed_text'])) // 128\n",
        "\n",
        "print(f\"Pasos por epoch para el modelo a nivel de caracteres: {char_steps}\")\n",
        "print(f\"Pasos por epoch para el modelo a nivel de palabras: {word_steps}\")\n",
        "\n",
        "# Mostrar un batch de ejemplo\n",
        "char_sample_X, char_sample_y = next(char_seq_gen)\n",
        "word_sample_X, word_sample_y = next(word_seq_gen)\n",
        "\n",
        "print(\"\\nForma del batch de ejemplo del modelo a nivel de caracteres:\")\n",
        "print(f\"X: {char_sample_X.shape}, y: {char_sample_y.shape}\")\n",
        "print(\"\\nForma del batch de ejemplo del modelo a nivel de palabras:\")\n",
        "print(f\"X: {word_sample_X.shape}, y: {word_sample_y.shape}\")"
      ]
    },
    {
      "cell_type": "markdown",
      "metadata": {
        "id": "W4ZT0QetfZji"
      },
      "source": [
        "#### **Pasos por Época**\n",
        "\n",
        "#### Modelo a Nivel de Caracteres\n",
        "\n",
        "**Pasos por epoch: 118185**\n",
        "\n",
        "El número de pasos por epoch para el modelo a nivel de caracteres es 118185. Esto indica que, durante cada epoch de entrenamiento, el modelo va a recibir 118185 lotes de datos generados secuencialmente.\n",
        "\n",
        "#### Modelo a Nivel de Palabras\n",
        "\n",
        "**Pasos por época: 15722**\n",
        "\n",
        "El número de pasos por época para el modelo a nivel de palabras es 15722. Esto significa que, en cada época de entrenamiento, el modelo procesará 15722 lotes de datos.\n",
        "\n",
        "#### Comparación:\n",
        "\n",
        "El modelo a nivel de caracteres tiene significativamente más pasos por época que el modelo a nivel de palabras. Esto es porque las secuencias de caracteres son más cortas que las secuencias de palabras y el texto se descompone en más secuencias cuando se considera a nivel de caracteres.\n",
        "\n",
        "#### **Forma del Lote de Ejemplo**\n",
        "\n",
        "#### Modelo a Nivel de Caracteres\n",
        "\n",
        "**Forma de X: (33, 100)**\n",
        "\n",
        "X es la matriz de entrada para el lote actual. El tamaño del lote es 33, lo que significa que hay 33 secuencias de caracteres en este lote. Cada secuencia tiene una longitud de 100 caracteres.\n",
        "\n",
        "**Forma de y: (33, 28)**\n",
        "\n",
        "Y es la matriz de salida (etiquetas) para el lote actual. El número de secuencias en el lote es 33, igual al tamaño del lote de X. Cada fila en y es un vector one-hot con 28 posiciones, representando cada posible carácter en el vocabulario. El vocabulario de caracteres incluye 28 caracteres únicos, por lo que cada vector one-hot tiene una dimensión de 28.\n",
        "\n",
        "#### Modelo a Nivel de Palabras\n",
        "\n",
        "**Forma de X: (15, 20)**\n",
        "\n",
        "El tamaño del lote es 15, indicando que hay 15 secuencias de palabras en este lote. Cada secuencia tiene una longitud de 20 palabras.\n",
        "\n",
        "**Forma de y: (15, 91344)**\n",
        "\n",
        "El número de secuencias en el lote es igual a 15, igual al tamaño del lote de X.\n",
        "Cada fila en y es un vector one-hot con 91344 posiciones, representando cada posible palabra en el vocabulario."
      ]
    },
    {
      "cell_type": "markdown",
      "metadata": {
        "id": "0tZSUCfy-_KZ"
      },
      "source": [
        "## 3.2 Entrenamiendo de los modelos\n",
        "El entrenamiento de modelos secuenciales implica alimentar las secuencias de entrada a la red, comparar el siguiente token predicho con el siguiente token real y ajustar los pesos del modelo para minimizar esta diferencia. Usaremos el optimizador Adam y la función de pérdida categorical cross-entropy para ambos modelos. Es importante monitorear el proceso de capacitación para evitar un sobreajuste, por lo que usaremos datos de validación y detención anticipada (Early Stopping). Debido al gran conjunto de datos, utilizaremos el entrenamiento por lotes para que el proceso sea más eficiente en cuanto a memoria."
      ]
    },
    {
      "cell_type": "markdown",
      "metadata": {
        "id": "WLZgi2UOmS91"
      },
      "source": [
        "### 3.2.1. Configurar los checkpoints y definir el Early Stopping"
      ]
    },
    {
      "cell_type": "code",
      "execution_count": 9,
      "metadata": {
        "id": "ya28m0Bhk1Cc"
      },
      "outputs": [],
      "source": [
        "# Crear directorios para checkpoints\n",
        "os.makedirs('checkpoints/char_model', exist_ok=True)\n",
        "os.makedirs('checkpoints/word_model', exist_ok=True)\n",
        "\n",
        "# Configurar el Early Stopping\n",
        "early_stopping = EarlyStopping(monitor='val_loss', patience=3, restore_best_weights=True)\n",
        "\n",
        "# Configurar el checkpointing para el modelo a nivel de caracteres\n",
        "char_checkpoint = ModelCheckpoint(\n",
        "    'checkpoints/char_model/model.{epoch:02d}-{val_loss:.2f}.h5',\n",
        "    monitor='val_loss',\n",
        "    save_best_only=True,\n",
        "    mode='min',\n",
        "    save_weights_only=True,\n",
        "    verbose=1\n",
        ")\n",
        "\n",
        "# Configurar el checkpointing para el modelo a nivel de caracteres\n",
        "word_checkpoint = ModelCheckpoint(\n",
        "    'checkpoints/word_model/model.{epoch:02d}-{val_loss:.2f}.h5',\n",
        "    monitor='val_loss',\n",
        "    save_best_only=True,\n",
        "    mode='min',\n",
        "    save_weights_only=True,\n",
        "    verbose=1\n",
        ")"
      ]
    },
    {
      "cell_type": "markdown",
      "metadata": {
        "id": "38GLBS0rm_Il"
      },
      "source": [
        "### 3.2.2. Cargar los pesos del checkpoint si existiesen para el modelo a nivel de caracteres"
      ]
    },
    {
      "cell_type": "code",
      "execution_count": 15,
      "metadata": {
        "colab": {
          "base_uri": "https://localhost:8080/"
        },
        "id": "Y_RYo5IqOcsX",
        "outputId": "7c85652f-b1bd-442f-86cd-b4f1fbdd3e06"
      },
      "outputs": [
        {
          "name": "stdout",
          "output_type": "stream",
          "text": [
            "No se encontraron elementos en el directorio checkpoints.\n"
          ]
        }
      ],
      "source": [
        "# Cargar el mejor modelo a nivel de caracteres\n",
        "try:\n",
        "    best_char_model_path = f'checkpoints/char_model/{sorted(os.listdir(\"checkpoints/char_model\"))[-1]}'\n",
        "    # Verificar si existe un checkpoint, cargar los pesos y mostrar la pérdida inicial\n",
        "    if os.path.exists(best_char_model_path):\n",
        "        print(\"Cargando el checkpoint del modelo a nivel de caracteres...\")\n",
        "\n",
        "        char_model.load_weights(best_char_model_path)\n",
        "        print(\"Checkpoint cargado. Evaluando el modelo...\")\n",
        "\n",
        "        evaluation = word_model.evaluate(word_seq_gen, steps=word_steps // 10)\n",
        "        print(f\"Pérdida inicial luego de cargar el checkpoint: {evaluation}\")\n",
        "\n",
        "except IndexError:\n",
        "    print(\"No se encontraron elementos en el directorio checkpoints.\")\n",
        "\n"
      ]
    },
    {
      "cell_type": "markdown",
      "metadata": {
        "id": "4lQdDL49nIwn"
      },
      "source": [
        "### 3.2.3. Entrenar el modelo a nivel de caracteres"
      ]
    },
    {
      "cell_type": "code",
      "execution_count": null,
      "metadata": {
        "id": "Q2WHGd7z_clU"
      },
      "outputs": [],
      "source": [
        "# Entrenar el modelo a nivel de caracteres\n",
        "print(\"Entrenando del modelo a nivel de caracteres...\")\n",
        "char_history = char_model.fit(\n",
        "    char_seq_gen,\n",
        "    steps_per_epoch=char_steps,\n",
        "    epochs=10,\n",
        "    validation_data=char_seq_gen,\n",
        "    validation_steps=char_steps // 10,\n",
        "    callbacks=[early_stopping, char_checkpoint]\n",
        ")"
      ]
    },
    {
      "cell_type": "markdown",
      "metadata": {
        "id": "LvorSnmBniys"
      },
      "source": [
        "### 3.2.4. Cargar los pesos del checkpoint si existiesen para el modelo a nivel de palabras"
      ]
    },
    {
      "cell_type": "code",
      "execution_count": 16,
      "metadata": {
        "colab": {
          "base_uri": "https://localhost:8080/"
        },
        "id": "6qXUfyb1G_W8",
        "outputId": "9f2cea61-2432-4df0-a139-1f40753bd963"
      },
      "outputs": [
        {
          "name": "stdout",
          "output_type": "stream",
          "text": [
            "No se encontraron elementos en el directorio checkpoints.\n"
          ]
        }
      ],
      "source": [
        "# Cargar el mejor modelo a nivel de palabras\n",
        "try:\n",
        "    best_word_model_path = f'checkpoints/word_model/{sorted(os.listdir(\"checkpoints/word_model\"))[-1]}'\n",
        "\n",
        "    # Verificar si existe un checkpoint, cargar los pesos y mostrar la pérdida inicial\n",
        "    if os.path.exists(best_word_model_path):\n",
        "        print(\"Cargando el checkpoint del modelo a nivel de palabras...\")\n",
        "\n",
        "        word_model.load_weights(best_word_model_path)\n",
        "        print(\"Checkpoint cargado. Evaluando el modelo...\")\n",
        "\n",
        "        evaluation = word_model.evaluate(word_seq_gen, steps=word_steps // 10)\n",
        "        print(f\"Pérdida inicial luego de cargar el checkpoint: {evaluation}\")\n",
        "except IndexError:\n",
        "    print(\"No se encontraron elementos en el directorio checkpoints.\")"
      ]
    },
    {
      "cell_type": "markdown",
      "metadata": {
        "id": "1eXz4Pu4pgSi"
      },
      "source": [
        "### 3.2.5. Entrenar el modelo a nivel de palabras"
      ]
    },
    {
      "cell_type": "code",
      "execution_count": null,
      "metadata": {},
      "outputs": [],
      "source": [
        "# Entrenar el modelo a nivel de palabras\n",
        "print(\"Entrenando del modelo a nivel de palabras...\")\n",
        "word_history = word_model.fit(\n",
        "    word_seq_gen,\n",
        "    steps_per_epoch=word_steps,\n",
        "    epochs=10,\n",
        "    validation_data=word_seq_gen,\n",
        "    validation_steps=word_steps // 10,\n",
        "    callbacks=[early_stopping, word_checkpoint]\n",
        ")"
      ]
    },
    {
      "cell_type": "markdown",
      "metadata": {
        "id": "HbwDUXsVrJ0t"
      },
      "source": [
        "# Sección 4: Generación de texto"
      ]
    },
    {
      "cell_type": "markdown",
      "metadata": {
        "id": "zsZT_A9boVX1"
      },
      "source": [
        "## 4.1 Generación a nivel de caracteres\n",
        "\n",
        "La generación de texto a nivel de caracteres implica predecir un carácter a la vez en función de la secuencia de caracteres anterior. El modelo toma una secuencia semilla como entrada y genera nuevos caracteres uno por uno, incorporando cada vez el carácter recién generado en la secuencia de entrada para la siguiente predicción. Este proceso continúa hasta que alcanzamos la longitud deseada o una condición de parada. La temperatura se utiliza para controlar la aleatoriedad del texto generado."
      ]
    },
    {
      "cell_type": "code",
      "execution_count": 18,
      "metadata": {
        "colab": {
          "base_uri": "https://localhost:8080/"
        },
        "id": "kjcd5Lj8pWB1",
        "outputId": "d88e247b-2e23-4be5-b7c2-3c5d6b9e3d11"
      },
      "outputs": [
        {
          "name": "stdout",
          "output_type": "stream",
          "text": [
            "Testos generados con el modelo a nivel de caracteres:\n",
            "\n",
            "Semilla: The future of artificial intelligence\n",
            "The future of artificial intelligence showed against investy is a trade plidged to vrice new family longs as win russies major its top peace finally handsets for seconds on moneyan said after part of the onedolessy there pass to be decid\n",
            "--------------------------------------------------\n",
            "\n",
            "Semilla: In a world where technology\n",
            "In a world where technology reaccosegry of allows to lesss for his tricken attacks for the microy las of an investigation of mosibility stocks fodd explored prosecutorations out in nithpust declared dips revale on the products \n",
            "--------------------------------------------------\n",
            "\n",
            "Semilla: The most important stocks\n",
            "The most important stocks are its hesproving next week ago but at offering quot turning in the springfield in recent forced as solutions china weather machines soldweatrum plans to on the savitys israeli said on sunday in the\n",
            "--------------------------------------------------\n",
            "\n",
            "Semilla: The global economy faces\n",
            "The global economy faceslywy decade organising podour internet innigacting the finged outlets business sected gyett known a vesses scoring up the wived to years as coming the plane to prime might clanchase of january in minu\n",
            "--------------------------------------------------\n",
            "\n",
            "Semilla: Space exploration \n",
            "Space exploration presss that hope of what would not after coloncks decide points quot of microsoft said on friday that said on friday on once and asianapularacy tricol season system about eive agreement that kicking o\n",
            "--------------------------------------------------\n"
          ]
        }
      ],
      "source": [
        "def generate_text_char(model, tokenizer, seed_text, num_chars=200, temperature=1.0):\n",
        "    generated_text = seed_text\n",
        "    for _ in range(num_chars):\n",
        "        # Tokenizar la secuencia actual\n",
        "        x = tokenizer.texts_to_sequences([generated_text[-char_sequence_length:]])[0]\n",
        "        x = pad_sequences([x], maxlen=char_sequence_length, padding='pre', truncating='pre')\n",
        "\n",
        "        # Predecir el siguiente caracter\n",
        "        predictions = model.predict(x, verbose=0)[0]\n",
        "\n",
        "        # Aplicar muestreo de temperatura\n",
        "        predictions = np.log(predictions) / temperature\n",
        "        exp_preds = np.exp(predictions)\n",
        "        predictions = exp_preds / np.sum(exp_preds)\n",
        "\n",
        "        # Obtener el caracter siguiente\n",
        "        next_index = np.random.choice(len(predictions), p=predictions)\n",
        "        next_char = tokenizer.index_word.get(next_index, ' ')  # Por defecto es un espacio\n",
        "\n",
        "        # Añadir el caracter generado\n",
        "        generated_text += next_char\n",
        "\n",
        "    generated_text += \".\"\n",
        "    return generated_text\n",
        "\n",
        "# Cargar el mejor modelo a nivel de caracteres\n",
        "best_char_model_path = f'checkpoints/char_model/{sorted(os.listdir(\"checkpoints/char_model\"))[-1]}'\n",
        "char_model.load_weights(best_char_model_path)\n",
        "\n",
        "# Gernerar texto usando el modelo a nivel de caracteres\n",
        "seed_texts = [\n",
        "    \"The future of artificial intelligence\",\n",
        "    \"In a world where technology\",\n",
        "    \"The most important stocks\",\n",
        "    \"The global economy faces\",\n",
        "    \"Space exploration \"\n",
        "]\n",
        "\n",
        "print(\"Testos generados con el modelo a nivel de caracteres:\")\n",
        "for seed in seed_texts:\n",
        "    generated_text = generate_text_char(char_model, char_tokenizer, seed)\n",
        "    print(f\"\\nSemilla: {seed}\")\n",
        "    print(generated_text)\n",
        "    print(\"-\" * 50)"
      ]
    },
    {
      "cell_type": "markdown",
      "metadata": {
        "id": "FUIZnVWrplCQ"
      },
      "source": [
        "## 4.2 Generación a nivel de palabras\n",
        "\n",
        "La generación de texto a nivel de palabra es similar a la generación a nivel de caracteres, pero predice palabras completas en lugar de caracteres individuales. Esto se espera que de como resultado un texto más coherente en secuencias más largas, ya que el modelo ha aprendido patrones y relaciones a nivel de palabras. Sin embargo, puede producir resultados menos diversos en comparación con los modelos a nivel de personaje."
      ]
    },
    {
      "cell_type": "code",
      "execution_count": 20,
      "metadata": {
        "colab": {
          "base_uri": "https://localhost:8080/"
        },
        "id": "cqQTcVzBNLoH",
        "outputId": "68fefbee-9f26-4203-f197-08aaadb1774d"
      },
      "outputs": [
        {
          "name": "stdout",
          "output_type": "stream",
          "text": [
            "\n",
            "Textos generados a nivel de palabras:\n",
            "\n",
            "Semilla: The future of artificial intelligence\n",
            "The future of artificial intelligence site a person said on wednesday but it that was paying back out of their bush administration s work in an order to ensure a joint collective bargaining agency an injunction but why may on violent it appears to reduce global warming contained such as cell and gulf of the\n",
            "--------------------------------------------------\n",
            "\n",
            "Semilla: In a world where technology\n",
            "In a world where technology the metres spacecraft is currently in a north korea break to murder people one major rules from scientists and scandals to carry out of the senate along with landslides out of a canadian international delays by murder an american hospital reported the tiny neighbours and toppled marines were in the\n",
            "--------------------------------------------------\n",
            "\n",
            "Semilla: The most important stocks\n",
            "The most important stocks of a milky century in a field pharmacies in the latest wave of other neighbours healing after civilians a of and other severe evidence of murder in merger evidence of a deaths of muslim attacks and people including a us marines victor and vicious livermore on the country s fears\n",
            "--------------------------------------------------\n",
            "\n",
            "Semilla: The global economy faces\n",
            "The global economy faces tuesday s lead to the helm of a radio corporation mena reports lamy that included to recent lead for competition and a joint investigation of terror facilities from the main department in an freestyle on wednesday as an almost former areas of the union a political group month in another\n",
            "--------------------------------------------------\n",
            "\n",
            "Semilla: Space exploration \n",
            "Space exploration to swim officials s territory by the university of medical games has found on their piracy to northern california and china a new explosion and rock and consumer institutions may be respected militants in the holy country pacific here yesterday a day ago the first agency abortive us forces from\n",
            "--------------------------------------------------\n"
          ]
        }
      ],
      "source": [
        "def generate_text_word(model, tokenizer, seed_text, num_words=50, temperature=1.0):\n",
        "    generated_text = seed_text.split()\n",
        "    for _ in range(num_words):\n",
        "        # Tokenizar la secuencia actual\n",
        "        x = tokenizer.texts_to_sequences([' '.join(generated_text[-word_sequence_length:])])[0]\n",
        "        x = pad_sequences([x], maxlen=word_sequence_length, padding='pre', truncating='pre')\n",
        "\n",
        "        # Predecir la siguiente palabra\n",
        "        predictions = model.predict(x, verbose=0)[0]\n",
        "\n",
        "        # Aplicar muestreo de temperatura\n",
        "        predictions = np.log(predictions) / temperature\n",
        "        exp_preds = np.exp(predictions)\n",
        "        predictions = exp_preds / np.sum(exp_preds)\n",
        "\n",
        "        # Obtener la siguiente palabra\n",
        "        next_index = np.random.choice(len(predictions), p=predictions)\n",
        "        next_word = tokenizer.index_word.get(next_index, '<UNK>')  # Usar <UNK> para palabras desconocidas\n",
        "\n",
        "        # Añadir la palabra generada\n",
        "        generated_text.append(next_word)\n",
        "\n",
        "    generated_text += \".\"\n",
        "\n",
        "    return ' '.join(generated_text)\n",
        "\n",
        "# Cargar el mejor modelo a nivel de palabras\n",
        "best_word_model_path = f'checkpoints/word_model/{sorted(os.listdir(\"checkpoints/word_model\"))[-1]}'\n",
        "word_model.load_weights(best_word_model_path)\n",
        "\n",
        "# Generar usando el modelo a nivel de palabras\n",
        "seed_texts = [\n",
        "    \"The future of artificial intelligence\",\n",
        "    \"In a world where technology\",\n",
        "    \"The most important stocks\",\n",
        "    \"The global economy faces\",\n",
        "    \"Space exploration \"\n",
        "]\n",
        "\n",
        "print(\"\\nTextos generados a nivel de palabras:\")\n",
        "for seed in seed_texts:\n",
        "    generated_text = generate_text_word(word_model, word_tokenizer, seed)\n",
        "    print(f\"\\nSemilla: {seed}\")\n",
        "    print(generated_text)\n",
        "    print(\"-\" * 50)"
      ]
    },
    {
      "cell_type": "markdown",
      "metadata": {
        "id": "zv34Ik_F1cJY"
      },
      "source": [
        "# Sección 5: Comparación de modelos"
      ]
    },
    {
      "cell_type": "markdown",
      "metadata": {
        "id": "1UK8iU7SHY0k"
      },
      "source": [
        "## **Estructura del Modelo y Representación de Datos**\n",
        "\n",
        "### Modelo a Nivel de Caracteres\n",
        "\n",
        "El modelo a nivel de caracteres procesa el texto como una secuencia de caracteres individuales. El modelo predice el siguiente carácter en la secuencia. La arquitectura utilizada incluye una capa de embeddings para mapear caracteres a vectores que capturen las relaciones entre los caracteres en distintas dimensiones, seguida por dos capas LSTM que capturan la dependencia temporal en la secuencia de caracteres. Finalmente, una capa densa con activación softmax predice la probabilidad del siguiente carácter en el vocabulario.\n",
        "\n",
        "Tras analizar el resultado de los textos generados, se destaca la flexibilidad, pudiendo generar cualquier secuencia de caracteres, lo que es útil para generar textos creativos y menos dependiente de los textos de entrenamiento. La desventaja es que tiene una visión limitada del contexto global debido a que cada carácter por sí solo contiene poca información semántica.\n",
        "\n",
        "Este modelo requiere de más pasos de entrenamiento y es menos eficiente en términos de tiempo de cómputo debido a la mayor longitud de las secuencias. Lo que se tradujo en una mayor dificultad de entrenamiento.\n",
        "\n",
        "### Modelo a Nivel de Palabras\n",
        "El modelo a nivel de palabras procesa el texto como una secuencia de palabras. Cada palabra es representada como un índice en un vocabulario de palabras, y el modelo predice la siguiente palabra en la secuencia. Este enfoque utiliza una capa de embeddings para convertir las palabras en vectores densos y representativos, seguida de dos capas LSTM para capturar dependencias a largo plazo en las secuencias de palabras. La capa de salida es una softmax que predice la probabilidad de la siguiente palabra en el vocabulario.\n",
        "\n",
        "Una ventaja, que pudimos observar con respecto al modelo a nivel de caracteres, es que captura mejor las relaciones semánticas y la estructura gramatical del texto, ya que cada palabra aporta más información semántica que un carácter individual. Esto se tradujo en textos más coherentes. Además Maneja secuencias más cortas, lo que puede resultar en una mayor eficiencia computacional y tiempos de entrenamiento más rápidos.\n",
        "\n",
        "Por otro lado, un vocabulario extenso puede llevar a una mayor dimensionalidad de la salida y a la necesidad de más memoria para almacenar los embeddings y manejar la salida one-hot.\n",
        "\n",
        "## **Resultados y Calidad del Texto Generado**\n",
        "\n",
        "### Modelo a Nivel de Caracteres\n",
        "\n",
        "**Resultados**\n",
        "\n",
        "El modelo a nivel de caracteres tiende a producir una variedad amplia de secuencias de texto, algunas de las cuales pueden no ser lingüísticamente coherentes o tener errores ortográficos. Sin embargo, este es capaz de generar nuevas palabras o combinaciones de caracteres que no se encuentran en los datos de entrenamiento, lo que puede ser útil para la generación creativa o artística.\n",
        "\n",
        "Estimamos que sería eficaz en la reproducción de patrones de caracteres locales, si hubiese sido entrenado incluyendo símbolos y dígitos, lo que permitiría generar texto que siguieran las reglas ortográficas y gramaticales en niveles locales.\n",
        "\n",
        "Por otro lado, la fluidez y coherencia global del texto pueden ser limitadas debido a la falta de contexto semántico amplio.\n",
        "\n",
        "### Modelo a Nivel de Palabras\n",
        "\n",
        "**Resultados**\n",
        "\n",
        "El modelo a nivel de palabras genera textos más coherentes y semánticamente consistentes, con frases y oraciones que tienen sentido global. Así mismo no comete ortográficos y casi no comete  gramaticales al contrario del modelo a nivel de caracteres. Ya que, en primer lugar, predice palabras enteras que ya tienen su ortografía definida y codificada y en segundo, por captar mejor la semántica global.\n",
        "\n",
        "La generación de texto parece ser más predecible y menos creativa, ya que está limitada por el vocabulario de palabras predefinido y está más influenciada por la gramática del conjunto de entrenamiento.\n",
        "\n",
        "Este modelo maneja mejor el contexto y la coherencia a largo plazo, produciendo texto que sigue una estructura lógica y gramatical adecuada pero está limitado por las palabras o frases que están presentes en el vocabulario de entrenamiento, lo que restringe la capacidad de generación creativa.\n",
        "\n",
        "## **Consideraciones para la Aplicación**\n",
        "\n",
        "El modelo a nivel de caracteres es ideal para tareas que requieren creatividad en la generación de texto, como la poesía o la generación de nombres.También es útil para lenguajes técnicos y códigos que requieren precisión a nivel de caracteres.\n",
        "\n",
        "Por otro lado, el modelo a nivel de palabras es preferible para la mayoría de las tareas de procesamiento de lenguaje natural, donde la coherencia semántica y la estructura gramatical son críticas. También parece adecuado para la generación de textos técnicos y artículos que requieren precisión y claridad en el lenguaje. Sumado a esto, al poder captar la semántica global de los textos, es mejor para generar textos largos que requieren mantener el contexto y la coherencia a lo largo de múltiples oraciones o párrafos.\n",
        "\n",
        "## **Otras consideraciones**\n",
        "Las conclusiones volcadas en el texto anterior fueron en parte conjeturas obtenidas de la observación de los resultados y en parte inferidos a través de la comprensión de la arquitectura de la red y de los procesos de entrenamiento y predicción. Esto se debe a que nos vimos limitados por la capacidad de cómputo prestadas por Colab, Kaggle, entre otros, borrando los runtimes sin permitirnos descargar los útimos checkpoints y perdiendo epochs enteras por este motivo. Además, el tiempo de GPU en estos servicios tiene un tiempo de refresco alto, y nuestro tiempo estuvo limitado. Esto nos impuso restricciones en el tamaño del modelo y en la inclusión de símbolos en el entrenamiento. Por estos motivos el texto generado es de una calidad pobrísima y, por ende, difícil de analizar en profundidad y obtener insights más valiosos.\n",
        "\n",
        "De haber tenido a disposición un poder de cómputo mayor hubiéramos propuesto las siguientes al modelo aquí presentado:\n",
        "1. Inclusión de símbolos y dígitos a los diccionarios\n",
        "2. Aumento de unidades LSTM por capa\n",
        "3. Añadir más capas densas con dropout para prevenir el overfitting\n",
        "4. Implementar LSTM bidireccionales\n",
        "5. Usar un learning rate scheduler como ReduceLROnPlateau\n",
        "6. Aumentar la longitud de la secuencia\n",
        "7. Usar arquitecturas más sofisticadas como encoder-decoder, encoder-decoder con atención o incluso transformers.\n",
        "\n",
        "## **Conclusión**\n",
        "En conclusión, ambos enfoques tienen sus ventajas y desventajas dependiendo del contexto y la aplicación específica. El modelo a nivel de caracteres es más flexible y creativo, pero puede carecer de coherencia semántica a largo plazo. Por otro lado, el modelo a nivel de palabras es más efectivos para generar textos coherentes y semánticamente ricos, aunque pueden estar limitados por el tamaño y la composición del vocabulario y las muestras de entrenamiento. La elección entre uno y otro dependerá de las necesidades específicas del problema y del tipo de texto que se desea generar.\n"
      ]
    }
  ],
  "metadata": {
    "colab": {
      "provenance": []
    },
    "kernelspec": {
      "display_name": "Python 3",
      "name": "python3"
    },
    "language_info": {
      "codemirror_mode": {
        "name": "ipython",
        "version": 3
      },
      "file_extension": ".py",
      "mimetype": "text/x-python",
      "name": "python",
      "nbconvert_exporter": "python",
      "pygments_lexer": "ipython3",
      "version": "3.12.3"
    },
    "widgets": {
      "application/vnd.jupyter.widget-state+json": {
        "0d5c0d61de4a4e82b9383d982265c3a3": {
          "model_module": "@jupyter-widgets/controls",
          "model_module_version": "1.5.0",
          "model_name": "HBoxModel",
          "state": {
            "_dom_classes": [],
            "_model_module": "@jupyter-widgets/controls",
            "_model_module_version": "1.5.0",
            "_model_name": "HBoxModel",
            "_view_count": null,
            "_view_module": "@jupyter-widgets/controls",
            "_view_module_version": "1.5.0",
            "_view_name": "HBoxView",
            "box_style": "",
            "children": [
              "IPY_MODEL_c2374e6d3d724de297a1bb3c9726c6e5",
              "IPY_MODEL_8a57b4a6543e4f01b4ecd99588af74a0",
              "IPY_MODEL_f7a0bc5d86af4bcebf72ba99ec4eadfd"
            ],
            "layout": "IPY_MODEL_121cadf02bd04cbdaba3ff99b79e350e"
          }
        },
        "121cadf02bd04cbdaba3ff99b79e350e": {
          "model_module": "@jupyter-widgets/base",
          "model_module_version": "1.2.0",
          "model_name": "LayoutModel",
          "state": {
            "_model_module": "@jupyter-widgets/base",
            "_model_module_version": "1.2.0",
            "_model_name": "LayoutModel",
            "_view_count": null,
            "_view_module": "@jupyter-widgets/base",
            "_view_module_version": "1.2.0",
            "_view_name": "LayoutView",
            "align_content": null,
            "align_items": null,
            "align_self": null,
            "border": null,
            "bottom": null,
            "display": null,
            "flex": null,
            "flex_flow": null,
            "grid_area": null,
            "grid_auto_columns": null,
            "grid_auto_flow": null,
            "grid_auto_rows": null,
            "grid_column": null,
            "grid_gap": null,
            "grid_row": null,
            "grid_template_areas": null,
            "grid_template_columns": null,
            "grid_template_rows": null,
            "height": null,
            "justify_content": null,
            "justify_items": null,
            "left": null,
            "margin": null,
            "max_height": null,
            "max_width": null,
            "min_height": null,
            "min_width": null,
            "object_fit": null,
            "object_position": null,
            "order": null,
            "overflow": null,
            "overflow_x": null,
            "overflow_y": null,
            "padding": null,
            "right": null,
            "top": null,
            "visibility": null,
            "width": null
          }
        },
        "1ca15d79950b42348a80529489db0eb7": {
          "model_module": "@jupyter-widgets/controls",
          "model_module_version": "1.5.0",
          "model_name": "DescriptionStyleModel",
          "state": {
            "_model_module": "@jupyter-widgets/controls",
            "_model_module_version": "1.5.0",
            "_model_name": "DescriptionStyleModel",
            "_view_count": null,
            "_view_module": "@jupyter-widgets/base",
            "_view_module_version": "1.2.0",
            "_view_name": "StyleView",
            "description_width": ""
          }
        },
        "218dad5de4694e1e83d822217b640ebb": {
          "model_module": "@jupyter-widgets/controls",
          "model_module_version": "1.5.0",
          "model_name": "ProgressStyleModel",
          "state": {
            "_model_module": "@jupyter-widgets/controls",
            "_model_module_version": "1.5.0",
            "_model_name": "ProgressStyleModel",
            "_view_count": null,
            "_view_module": "@jupyter-widgets/base",
            "_view_module_version": "1.2.0",
            "_view_name": "StyleView",
            "bar_color": null,
            "description_width": ""
          }
        },
        "230df5053da64053a86531b8aa01166f": {
          "model_module": "@jupyter-widgets/base",
          "model_module_version": "1.2.0",
          "model_name": "LayoutModel",
          "state": {
            "_model_module": "@jupyter-widgets/base",
            "_model_module_version": "1.2.0",
            "_model_name": "LayoutModel",
            "_view_count": null,
            "_view_module": "@jupyter-widgets/base",
            "_view_module_version": "1.2.0",
            "_view_name": "LayoutView",
            "align_content": null,
            "align_items": null,
            "align_self": null,
            "border": null,
            "bottom": null,
            "display": null,
            "flex": null,
            "flex_flow": null,
            "grid_area": null,
            "grid_auto_columns": null,
            "grid_auto_flow": null,
            "grid_auto_rows": null,
            "grid_column": null,
            "grid_gap": null,
            "grid_row": null,
            "grid_template_areas": null,
            "grid_template_columns": null,
            "grid_template_rows": null,
            "height": null,
            "justify_content": null,
            "justify_items": null,
            "left": null,
            "margin": null,
            "max_height": null,
            "max_width": null,
            "min_height": null,
            "min_width": null,
            "object_fit": null,
            "object_position": null,
            "order": null,
            "overflow": null,
            "overflow_x": null,
            "overflow_y": null,
            "padding": null,
            "right": null,
            "top": null,
            "visibility": null,
            "width": null
          }
        },
        "2a1ddf53bc6a4513935ac2ede7be90da": {
          "model_module": "@jupyter-widgets/base",
          "model_module_version": "1.2.0",
          "model_name": "LayoutModel",
          "state": {
            "_model_module": "@jupyter-widgets/base",
            "_model_module_version": "1.2.0",
            "_model_name": "LayoutModel",
            "_view_count": null,
            "_view_module": "@jupyter-widgets/base",
            "_view_module_version": "1.2.0",
            "_view_name": "LayoutView",
            "align_content": null,
            "align_items": null,
            "align_self": null,
            "border": null,
            "bottom": null,
            "display": null,
            "flex": null,
            "flex_flow": null,
            "grid_area": null,
            "grid_auto_columns": null,
            "grid_auto_flow": null,
            "grid_auto_rows": null,
            "grid_column": null,
            "grid_gap": null,
            "grid_row": null,
            "grid_template_areas": null,
            "grid_template_columns": null,
            "grid_template_rows": null,
            "height": null,
            "justify_content": null,
            "justify_items": null,
            "left": null,
            "margin": null,
            "max_height": null,
            "max_width": null,
            "min_height": null,
            "min_width": null,
            "object_fit": null,
            "object_position": null,
            "order": null,
            "overflow": null,
            "overflow_x": null,
            "overflow_y": null,
            "padding": null,
            "right": null,
            "top": null,
            "visibility": null,
            "width": null
          }
        },
        "2aa93e9993fc48e1883544d1dc7b0f63": {
          "model_module": "@jupyter-widgets/controls",
          "model_module_version": "1.5.0",
          "model_name": "DescriptionStyleModel",
          "state": {
            "_model_module": "@jupyter-widgets/controls",
            "_model_module_version": "1.5.0",
            "_model_name": "DescriptionStyleModel",
            "_view_count": null,
            "_view_module": "@jupyter-widgets/base",
            "_view_module_version": "1.2.0",
            "_view_name": "StyleView",
            "description_width": ""
          }
        },
        "2c5421963a7441d98990fb876ad06aed": {
          "model_module": "@jupyter-widgets/base",
          "model_module_version": "1.2.0",
          "model_name": "LayoutModel",
          "state": {
            "_model_module": "@jupyter-widgets/base",
            "_model_module_version": "1.2.0",
            "_model_name": "LayoutModel",
            "_view_count": null,
            "_view_module": "@jupyter-widgets/base",
            "_view_module_version": "1.2.0",
            "_view_name": "LayoutView",
            "align_content": null,
            "align_items": null,
            "align_self": null,
            "border": null,
            "bottom": null,
            "display": null,
            "flex": null,
            "flex_flow": null,
            "grid_area": null,
            "grid_auto_columns": null,
            "grid_auto_flow": null,
            "grid_auto_rows": null,
            "grid_column": null,
            "grid_gap": null,
            "grid_row": null,
            "grid_template_areas": null,
            "grid_template_columns": null,
            "grid_template_rows": null,
            "height": null,
            "justify_content": null,
            "justify_items": null,
            "left": null,
            "margin": null,
            "max_height": null,
            "max_width": null,
            "min_height": null,
            "min_width": null,
            "object_fit": null,
            "object_position": null,
            "order": null,
            "overflow": null,
            "overflow_x": null,
            "overflow_y": null,
            "padding": null,
            "right": null,
            "top": null,
            "visibility": null,
            "width": null
          }
        },
        "33ce96d70eb5476ca439e96c42d00d53": {
          "model_module": "@jupyter-widgets/controls",
          "model_module_version": "1.5.0",
          "model_name": "HTMLModel",
          "state": {
            "_dom_classes": [],
            "_model_module": "@jupyter-widgets/controls",
            "_model_module_version": "1.5.0",
            "_model_name": "HTMLModel",
            "_view_count": null,
            "_view_module": "@jupyter-widgets/controls",
            "_view_module_version": "1.5.0",
            "_view_name": "HTMLView",
            "description": "",
            "description_tooltip": null,
            "layout": "IPY_MODEL_8b929ca9c77c4d4a95de96ca50558b76",
            "placeholder": "​",
            "style": "IPY_MODEL_1ca15d79950b42348a80529489db0eb7",
            "value": "Downloading readme: 100%"
          }
        },
        "352cdd097d71427aaa638f8a1fe70f67": {
          "model_module": "@jupyter-widgets/base",
          "model_module_version": "1.2.0",
          "model_name": "LayoutModel",
          "state": {
            "_model_module": "@jupyter-widgets/base",
            "_model_module_version": "1.2.0",
            "_model_name": "LayoutModel",
            "_view_count": null,
            "_view_module": "@jupyter-widgets/base",
            "_view_module_version": "1.2.0",
            "_view_name": "LayoutView",
            "align_content": null,
            "align_items": null,
            "align_self": null,
            "border": null,
            "bottom": null,
            "display": null,
            "flex": null,
            "flex_flow": null,
            "grid_area": null,
            "grid_auto_columns": null,
            "grid_auto_flow": null,
            "grid_auto_rows": null,
            "grid_column": null,
            "grid_gap": null,
            "grid_row": null,
            "grid_template_areas": null,
            "grid_template_columns": null,
            "grid_template_rows": null,
            "height": null,
            "justify_content": null,
            "justify_items": null,
            "left": null,
            "margin": null,
            "max_height": null,
            "max_width": null,
            "min_height": null,
            "min_width": null,
            "object_fit": null,
            "object_position": null,
            "order": null,
            "overflow": null,
            "overflow_x": null,
            "overflow_y": null,
            "padding": null,
            "right": null,
            "top": null,
            "visibility": null,
            "width": null
          }
        },
        "3b327409e71247b888cb2a8f96786cf4": {
          "model_module": "@jupyter-widgets/base",
          "model_module_version": "1.2.0",
          "model_name": "LayoutModel",
          "state": {
            "_model_module": "@jupyter-widgets/base",
            "_model_module_version": "1.2.0",
            "_model_name": "LayoutModel",
            "_view_count": null,
            "_view_module": "@jupyter-widgets/base",
            "_view_module_version": "1.2.0",
            "_view_name": "LayoutView",
            "align_content": null,
            "align_items": null,
            "align_self": null,
            "border": null,
            "bottom": null,
            "display": null,
            "flex": null,
            "flex_flow": null,
            "grid_area": null,
            "grid_auto_columns": null,
            "grid_auto_flow": null,
            "grid_auto_rows": null,
            "grid_column": null,
            "grid_gap": null,
            "grid_row": null,
            "grid_template_areas": null,
            "grid_template_columns": null,
            "grid_template_rows": null,
            "height": null,
            "justify_content": null,
            "justify_items": null,
            "left": null,
            "margin": null,
            "max_height": null,
            "max_width": null,
            "min_height": null,
            "min_width": null,
            "object_fit": null,
            "object_position": null,
            "order": null,
            "overflow": null,
            "overflow_x": null,
            "overflow_y": null,
            "padding": null,
            "right": null,
            "top": null,
            "visibility": null,
            "width": null
          }
        },
        "3b83faadcb9f4a9d9a5f4dceb0e23280": {
          "model_module": "@jupyter-widgets/controls",
          "model_module_version": "1.5.0",
          "model_name": "FloatProgressModel",
          "state": {
            "_dom_classes": [],
            "_model_module": "@jupyter-widgets/controls",
            "_model_module_version": "1.5.0",
            "_model_name": "FloatProgressModel",
            "_view_count": null,
            "_view_module": "@jupyter-widgets/controls",
            "_view_module_version": "1.5.0",
            "_view_name": "ProgressView",
            "bar_style": "success",
            "description": "",
            "description_tooltip": null,
            "layout": "IPY_MODEL_84fa4d9b6ab7453dae676d61e6ee25d0",
            "max": 120000,
            "min": 0,
            "orientation": "horizontal",
            "style": "IPY_MODEL_da5ec38da9fa456e97795205a91ab465",
            "value": 120000
          }
        },
        "3d36da71e62b4573a81edb171587e746": {
          "model_module": "@jupyter-widgets/controls",
          "model_module_version": "1.5.0",
          "model_name": "HTMLModel",
          "state": {
            "_dom_classes": [],
            "_model_module": "@jupyter-widgets/controls",
            "_model_module_version": "1.5.0",
            "_model_name": "HTMLModel",
            "_view_count": null,
            "_view_module": "@jupyter-widgets/controls",
            "_view_module_version": "1.5.0",
            "_view_name": "HTMLView",
            "description": "",
            "description_tooltip": null,
            "layout": "IPY_MODEL_83c107bc1d914fc39d34e3fd9c3ad982",
            "placeholder": "​",
            "style": "IPY_MODEL_a2201eeaa8b14b2992bfa0afe004a18e",
            "value": " 1.23M/1.23M [00:00&lt;00:00, 4.99MB/s]"
          }
        },
        "43c1202f51e04bd1aaebed21654b786b": {
          "model_module": "@jupyter-widgets/controls",
          "model_module_version": "1.5.0",
          "model_name": "HTMLModel",
          "state": {
            "_dom_classes": [],
            "_model_module": "@jupyter-widgets/controls",
            "_model_module_version": "1.5.0",
            "_model_name": "HTMLModel",
            "_view_count": null,
            "_view_module": "@jupyter-widgets/controls",
            "_view_module_version": "1.5.0",
            "_view_name": "HTMLView",
            "description": "",
            "description_tooltip": null,
            "layout": "IPY_MODEL_8d99a191960d467f97c12d9a9314250a",
            "placeholder": "​",
            "style": "IPY_MODEL_879b2dd227834d72b6284584efa187be",
            "value": " 120000/120000 [00:00&lt;00:00, 313856.24 examples/s]"
          }
        },
        "493880cb2555415f80e49ef0c666ef37": {
          "model_module": "@jupyter-widgets/controls",
          "model_module_version": "1.5.0",
          "model_name": "HBoxModel",
          "state": {
            "_dom_classes": [],
            "_model_module": "@jupyter-widgets/controls",
            "_model_module_version": "1.5.0",
            "_model_name": "HBoxModel",
            "_view_count": null,
            "_view_module": "@jupyter-widgets/controls",
            "_view_module_version": "1.5.0",
            "_view_name": "HBoxView",
            "box_style": "",
            "children": [
              "IPY_MODEL_33ce96d70eb5476ca439e96c42d00d53",
              "IPY_MODEL_6b394c487d5d428380f697506d4ddd7d",
              "IPY_MODEL_a941be09290a4a2b9a9bdfd05a82614a"
            ],
            "layout": "IPY_MODEL_e18295246d3049579adf5eed0396a121"
          }
        },
        "4cb0b035b4c14ee7999fc0de93d24479": {
          "model_module": "@jupyter-widgets/controls",
          "model_module_version": "1.5.0",
          "model_name": "ProgressStyleModel",
          "state": {
            "_model_module": "@jupyter-widgets/controls",
            "_model_module_version": "1.5.0",
            "_model_name": "ProgressStyleModel",
            "_view_count": null,
            "_view_module": "@jupyter-widgets/base",
            "_view_module_version": "1.2.0",
            "_view_name": "StyleView",
            "bar_color": null,
            "description_width": ""
          }
        },
        "516d6a835fe441109cf603fce264033e": {
          "model_module": "@jupyter-widgets/controls",
          "model_module_version": "1.5.0",
          "model_name": "DescriptionStyleModel",
          "state": {
            "_model_module": "@jupyter-widgets/controls",
            "_model_module_version": "1.5.0",
            "_model_name": "DescriptionStyleModel",
            "_view_count": null,
            "_view_module": "@jupyter-widgets/base",
            "_view_module_version": "1.2.0",
            "_view_name": "StyleView",
            "description_width": ""
          }
        },
        "52e142f079e043f5b3046581ff2e05bd": {
          "model_module": "@jupyter-widgets/base",
          "model_module_version": "1.2.0",
          "model_name": "LayoutModel",
          "state": {
            "_model_module": "@jupyter-widgets/base",
            "_model_module_version": "1.2.0",
            "_model_name": "LayoutModel",
            "_view_count": null,
            "_view_module": "@jupyter-widgets/base",
            "_view_module_version": "1.2.0",
            "_view_name": "LayoutView",
            "align_content": null,
            "align_items": null,
            "align_self": null,
            "border": null,
            "bottom": null,
            "display": null,
            "flex": null,
            "flex_flow": null,
            "grid_area": null,
            "grid_auto_columns": null,
            "grid_auto_flow": null,
            "grid_auto_rows": null,
            "grid_column": null,
            "grid_gap": null,
            "grid_row": null,
            "grid_template_areas": null,
            "grid_template_columns": null,
            "grid_template_rows": null,
            "height": null,
            "justify_content": null,
            "justify_items": null,
            "left": null,
            "margin": null,
            "max_height": null,
            "max_width": null,
            "min_height": null,
            "min_width": null,
            "object_fit": null,
            "object_position": null,
            "order": null,
            "overflow": null,
            "overflow_x": null,
            "overflow_y": null,
            "padding": null,
            "right": null,
            "top": null,
            "visibility": null,
            "width": null
          }
        },
        "551690f8fe284af694926435989fde0f": {
          "model_module": "@jupyter-widgets/controls",
          "model_module_version": "1.5.0",
          "model_name": "DescriptionStyleModel",
          "state": {
            "_model_module": "@jupyter-widgets/controls",
            "_model_module_version": "1.5.0",
            "_model_name": "DescriptionStyleModel",
            "_view_count": null,
            "_view_module": "@jupyter-widgets/base",
            "_view_module_version": "1.2.0",
            "_view_name": "StyleView",
            "description_width": ""
          }
        },
        "55ae1b96110a4c7fa852c4c6093b45a1": {
          "model_module": "@jupyter-widgets/controls",
          "model_module_version": "1.5.0",
          "model_name": "DescriptionStyleModel",
          "state": {
            "_model_module": "@jupyter-widgets/controls",
            "_model_module_version": "1.5.0",
            "_model_name": "DescriptionStyleModel",
            "_view_count": null,
            "_view_module": "@jupyter-widgets/base",
            "_view_module_version": "1.2.0",
            "_view_name": "StyleView",
            "description_width": ""
          }
        },
        "5cf9a7cdfca14ec38f7f5a9d35b3f73f": {
          "model_module": "@jupyter-widgets/base",
          "model_module_version": "1.2.0",
          "model_name": "LayoutModel",
          "state": {
            "_model_module": "@jupyter-widgets/base",
            "_model_module_version": "1.2.0",
            "_model_name": "LayoutModel",
            "_view_count": null,
            "_view_module": "@jupyter-widgets/base",
            "_view_module_version": "1.2.0",
            "_view_name": "LayoutView",
            "align_content": null,
            "align_items": null,
            "align_self": null,
            "border": null,
            "bottom": null,
            "display": null,
            "flex": null,
            "flex_flow": null,
            "grid_area": null,
            "grid_auto_columns": null,
            "grid_auto_flow": null,
            "grid_auto_rows": null,
            "grid_column": null,
            "grid_gap": null,
            "grid_row": null,
            "grid_template_areas": null,
            "grid_template_columns": null,
            "grid_template_rows": null,
            "height": null,
            "justify_content": null,
            "justify_items": null,
            "left": null,
            "margin": null,
            "max_height": null,
            "max_width": null,
            "min_height": null,
            "min_width": null,
            "object_fit": null,
            "object_position": null,
            "order": null,
            "overflow": null,
            "overflow_x": null,
            "overflow_y": null,
            "padding": null,
            "right": null,
            "top": null,
            "visibility": null,
            "width": null
          }
        },
        "5fdde4bf78d744c692e18ebfc13577b0": {
          "model_module": "@jupyter-widgets/base",
          "model_module_version": "1.2.0",
          "model_name": "LayoutModel",
          "state": {
            "_model_module": "@jupyter-widgets/base",
            "_model_module_version": "1.2.0",
            "_model_name": "LayoutModel",
            "_view_count": null,
            "_view_module": "@jupyter-widgets/base",
            "_view_module_version": "1.2.0",
            "_view_name": "LayoutView",
            "align_content": null,
            "align_items": null,
            "align_self": null,
            "border": null,
            "bottom": null,
            "display": null,
            "flex": null,
            "flex_flow": null,
            "grid_area": null,
            "grid_auto_columns": null,
            "grid_auto_flow": null,
            "grid_auto_rows": null,
            "grid_column": null,
            "grid_gap": null,
            "grid_row": null,
            "grid_template_areas": null,
            "grid_template_columns": null,
            "grid_template_rows": null,
            "height": null,
            "justify_content": null,
            "justify_items": null,
            "left": null,
            "margin": null,
            "max_height": null,
            "max_width": null,
            "min_height": null,
            "min_width": null,
            "object_fit": null,
            "object_position": null,
            "order": null,
            "overflow": null,
            "overflow_x": null,
            "overflow_y": null,
            "padding": null,
            "right": null,
            "top": null,
            "visibility": null,
            "width": null
          }
        },
        "69f42750f9174f38882c07c698590960": {
          "model_module": "@jupyter-widgets/controls",
          "model_module_version": "1.5.0",
          "model_name": "FloatProgressModel",
          "state": {
            "_dom_classes": [],
            "_model_module": "@jupyter-widgets/controls",
            "_model_module_version": "1.5.0",
            "_model_name": "FloatProgressModel",
            "_view_count": null,
            "_view_module": "@jupyter-widgets/controls",
            "_view_module_version": "1.5.0",
            "_view_name": "ProgressView",
            "bar_style": "success",
            "description": "",
            "description_tooltip": null,
            "layout": "IPY_MODEL_b6796f6bdccc46c79d94324578d517b8",
            "max": 1234829,
            "min": 0,
            "orientation": "horizontal",
            "style": "IPY_MODEL_218dad5de4694e1e83d822217b640ebb",
            "value": 1234829
          }
        },
        "6b394c487d5d428380f697506d4ddd7d": {
          "model_module": "@jupyter-widgets/controls",
          "model_module_version": "1.5.0",
          "model_name": "FloatProgressModel",
          "state": {
            "_dom_classes": [],
            "_model_module": "@jupyter-widgets/controls",
            "_model_module_version": "1.5.0",
            "_model_name": "FloatProgressModel",
            "_view_count": null,
            "_view_module": "@jupyter-widgets/controls",
            "_view_module_version": "1.5.0",
            "_view_name": "ProgressView",
            "bar_style": "success",
            "description": "",
            "description_tooltip": null,
            "layout": "IPY_MODEL_bf7ef185e7b349e59528ea5caebd7e67",
            "max": 8070,
            "min": 0,
            "orientation": "horizontal",
            "style": "IPY_MODEL_e2393140f8014203b1771c54b435f262",
            "value": 8070
          }
        },
        "6bfff95e6e364731bc831384652e6ae9": {
          "model_module": "@jupyter-widgets/controls",
          "model_module_version": "1.5.0",
          "model_name": "DescriptionStyleModel",
          "state": {
            "_model_module": "@jupyter-widgets/controls",
            "_model_module_version": "1.5.0",
            "_model_name": "DescriptionStyleModel",
            "_view_count": null,
            "_view_module": "@jupyter-widgets/base",
            "_view_module_version": "1.2.0",
            "_view_name": "StyleView",
            "description_width": ""
          }
        },
        "6fc673009a2c42ffa062813e77e99419": {
          "model_module": "@jupyter-widgets/controls",
          "model_module_version": "1.5.0",
          "model_name": "HBoxModel",
          "state": {
            "_dom_classes": [],
            "_model_module": "@jupyter-widgets/controls",
            "_model_module_version": "1.5.0",
            "_model_name": "HBoxModel",
            "_view_count": null,
            "_view_module": "@jupyter-widgets/controls",
            "_view_module_version": "1.5.0",
            "_view_name": "HBoxView",
            "box_style": "",
            "children": [
              "IPY_MODEL_d448ee2263fd433b9ed30d1d9743cce0",
              "IPY_MODEL_e87c1fb12a9f40da9edbd8694fbdc862",
              "IPY_MODEL_fa31643070a744b8829c751187bd0467"
            ],
            "layout": "IPY_MODEL_230df5053da64053a86531b8aa01166f"
          }
        },
        "83c107bc1d914fc39d34e3fd9c3ad982": {
          "model_module": "@jupyter-widgets/base",
          "model_module_version": "1.2.0",
          "model_name": "LayoutModel",
          "state": {
            "_model_module": "@jupyter-widgets/base",
            "_model_module_version": "1.2.0",
            "_model_name": "LayoutModel",
            "_view_count": null,
            "_view_module": "@jupyter-widgets/base",
            "_view_module_version": "1.2.0",
            "_view_name": "LayoutView",
            "align_content": null,
            "align_items": null,
            "align_self": null,
            "border": null,
            "bottom": null,
            "display": null,
            "flex": null,
            "flex_flow": null,
            "grid_area": null,
            "grid_auto_columns": null,
            "grid_auto_flow": null,
            "grid_auto_rows": null,
            "grid_column": null,
            "grid_gap": null,
            "grid_row": null,
            "grid_template_areas": null,
            "grid_template_columns": null,
            "grid_template_rows": null,
            "height": null,
            "justify_content": null,
            "justify_items": null,
            "left": null,
            "margin": null,
            "max_height": null,
            "max_width": null,
            "min_height": null,
            "min_width": null,
            "object_fit": null,
            "object_position": null,
            "order": null,
            "overflow": null,
            "overflow_x": null,
            "overflow_y": null,
            "padding": null,
            "right": null,
            "top": null,
            "visibility": null,
            "width": null
          }
        },
        "84fa4d9b6ab7453dae676d61e6ee25d0": {
          "model_module": "@jupyter-widgets/base",
          "model_module_version": "1.2.0",
          "model_name": "LayoutModel",
          "state": {
            "_model_module": "@jupyter-widgets/base",
            "_model_module_version": "1.2.0",
            "_model_name": "LayoutModel",
            "_view_count": null,
            "_view_module": "@jupyter-widgets/base",
            "_view_module_version": "1.2.0",
            "_view_name": "LayoutView",
            "align_content": null,
            "align_items": null,
            "align_self": null,
            "border": null,
            "bottom": null,
            "display": null,
            "flex": null,
            "flex_flow": null,
            "grid_area": null,
            "grid_auto_columns": null,
            "grid_auto_flow": null,
            "grid_auto_rows": null,
            "grid_column": null,
            "grid_gap": null,
            "grid_row": null,
            "grid_template_areas": null,
            "grid_template_columns": null,
            "grid_template_rows": null,
            "height": null,
            "justify_content": null,
            "justify_items": null,
            "left": null,
            "margin": null,
            "max_height": null,
            "max_width": null,
            "min_height": null,
            "min_width": null,
            "object_fit": null,
            "object_position": null,
            "order": null,
            "overflow": null,
            "overflow_x": null,
            "overflow_y": null,
            "padding": null,
            "right": null,
            "top": null,
            "visibility": null,
            "width": null
          }
        },
        "879b2dd227834d72b6284584efa187be": {
          "model_module": "@jupyter-widgets/controls",
          "model_module_version": "1.5.0",
          "model_name": "DescriptionStyleModel",
          "state": {
            "_model_module": "@jupyter-widgets/controls",
            "_model_module_version": "1.5.0",
            "_model_name": "DescriptionStyleModel",
            "_view_count": null,
            "_view_module": "@jupyter-widgets/base",
            "_view_module_version": "1.2.0",
            "_view_name": "StyleView",
            "description_width": ""
          }
        },
        "8a57b4a6543e4f01b4ecd99588af74a0": {
          "model_module": "@jupyter-widgets/controls",
          "model_module_version": "1.5.0",
          "model_name": "FloatProgressModel",
          "state": {
            "_dom_classes": [],
            "_model_module": "@jupyter-widgets/controls",
            "_model_module_version": "1.5.0",
            "_model_name": "FloatProgressModel",
            "_view_count": null,
            "_view_module": "@jupyter-widgets/controls",
            "_view_module_version": "1.5.0",
            "_view_name": "ProgressView",
            "bar_style": "success",
            "description": "",
            "description_tooltip": null,
            "layout": "IPY_MODEL_a390bdf642fc4fec8be5df6f2de58924",
            "max": 18585438,
            "min": 0,
            "orientation": "horizontal",
            "style": "IPY_MODEL_f879c65d761b49099d7d08f382d8c97f",
            "value": 18585438
          }
        },
        "8b929ca9c77c4d4a95de96ca50558b76": {
          "model_module": "@jupyter-widgets/base",
          "model_module_version": "1.2.0",
          "model_name": "LayoutModel",
          "state": {
            "_model_module": "@jupyter-widgets/base",
            "_model_module_version": "1.2.0",
            "_model_name": "LayoutModel",
            "_view_count": null,
            "_view_module": "@jupyter-widgets/base",
            "_view_module_version": "1.2.0",
            "_view_name": "LayoutView",
            "align_content": null,
            "align_items": null,
            "align_self": null,
            "border": null,
            "bottom": null,
            "display": null,
            "flex": null,
            "flex_flow": null,
            "grid_area": null,
            "grid_auto_columns": null,
            "grid_auto_flow": null,
            "grid_auto_rows": null,
            "grid_column": null,
            "grid_gap": null,
            "grid_row": null,
            "grid_template_areas": null,
            "grid_template_columns": null,
            "grid_template_rows": null,
            "height": null,
            "justify_content": null,
            "justify_items": null,
            "left": null,
            "margin": null,
            "max_height": null,
            "max_width": null,
            "min_height": null,
            "min_width": null,
            "object_fit": null,
            "object_position": null,
            "order": null,
            "overflow": null,
            "overflow_x": null,
            "overflow_y": null,
            "padding": null,
            "right": null,
            "top": null,
            "visibility": null,
            "width": null
          }
        },
        "8d99a191960d467f97c12d9a9314250a": {
          "model_module": "@jupyter-widgets/base",
          "model_module_version": "1.2.0",
          "model_name": "LayoutModel",
          "state": {
            "_model_module": "@jupyter-widgets/base",
            "_model_module_version": "1.2.0",
            "_model_name": "LayoutModel",
            "_view_count": null,
            "_view_module": "@jupyter-widgets/base",
            "_view_module_version": "1.2.0",
            "_view_name": "LayoutView",
            "align_content": null,
            "align_items": null,
            "align_self": null,
            "border": null,
            "bottom": null,
            "display": null,
            "flex": null,
            "flex_flow": null,
            "grid_area": null,
            "grid_auto_columns": null,
            "grid_auto_flow": null,
            "grid_auto_rows": null,
            "grid_column": null,
            "grid_gap": null,
            "grid_row": null,
            "grid_template_areas": null,
            "grid_template_columns": null,
            "grid_template_rows": null,
            "height": null,
            "justify_content": null,
            "justify_items": null,
            "left": null,
            "margin": null,
            "max_height": null,
            "max_width": null,
            "min_height": null,
            "min_width": null,
            "object_fit": null,
            "object_position": null,
            "order": null,
            "overflow": null,
            "overflow_x": null,
            "overflow_y": null,
            "padding": null,
            "right": null,
            "top": null,
            "visibility": null,
            "width": null
          }
        },
        "a1fc1fee9382449993cb9e1a26437e43": {
          "model_module": "@jupyter-widgets/controls",
          "model_module_version": "1.5.0",
          "model_name": "HBoxModel",
          "state": {
            "_dom_classes": [],
            "_model_module": "@jupyter-widgets/controls",
            "_model_module_version": "1.5.0",
            "_model_name": "HBoxModel",
            "_view_count": null,
            "_view_module": "@jupyter-widgets/controls",
            "_view_module_version": "1.5.0",
            "_view_name": "HBoxView",
            "box_style": "",
            "children": [
              "IPY_MODEL_a49aa8f7d7d442b6ad8e65b2344c9cb8",
              "IPY_MODEL_69f42750f9174f38882c07c698590960",
              "IPY_MODEL_3d36da71e62b4573a81edb171587e746"
            ],
            "layout": "IPY_MODEL_edb12634462049aca8efd00fb6db59a0"
          }
        },
        "a2201eeaa8b14b2992bfa0afe004a18e": {
          "model_module": "@jupyter-widgets/controls",
          "model_module_version": "1.5.0",
          "model_name": "DescriptionStyleModel",
          "state": {
            "_model_module": "@jupyter-widgets/controls",
            "_model_module_version": "1.5.0",
            "_model_name": "DescriptionStyleModel",
            "_view_count": null,
            "_view_module": "@jupyter-widgets/base",
            "_view_module_version": "1.2.0",
            "_view_name": "StyleView",
            "description_width": ""
          }
        },
        "a390bdf642fc4fec8be5df6f2de58924": {
          "model_module": "@jupyter-widgets/base",
          "model_module_version": "1.2.0",
          "model_name": "LayoutModel",
          "state": {
            "_model_module": "@jupyter-widgets/base",
            "_model_module_version": "1.2.0",
            "_model_name": "LayoutModel",
            "_view_count": null,
            "_view_module": "@jupyter-widgets/base",
            "_view_module_version": "1.2.0",
            "_view_name": "LayoutView",
            "align_content": null,
            "align_items": null,
            "align_self": null,
            "border": null,
            "bottom": null,
            "display": null,
            "flex": null,
            "flex_flow": null,
            "grid_area": null,
            "grid_auto_columns": null,
            "grid_auto_flow": null,
            "grid_auto_rows": null,
            "grid_column": null,
            "grid_gap": null,
            "grid_row": null,
            "grid_template_areas": null,
            "grid_template_columns": null,
            "grid_template_rows": null,
            "height": null,
            "justify_content": null,
            "justify_items": null,
            "left": null,
            "margin": null,
            "max_height": null,
            "max_width": null,
            "min_height": null,
            "min_width": null,
            "object_fit": null,
            "object_position": null,
            "order": null,
            "overflow": null,
            "overflow_x": null,
            "overflow_y": null,
            "padding": null,
            "right": null,
            "top": null,
            "visibility": null,
            "width": null
          }
        },
        "a49aa8f7d7d442b6ad8e65b2344c9cb8": {
          "model_module": "@jupyter-widgets/controls",
          "model_module_version": "1.5.0",
          "model_name": "HTMLModel",
          "state": {
            "_dom_classes": [],
            "_model_module": "@jupyter-widgets/controls",
            "_model_module_version": "1.5.0",
            "_model_name": "HTMLModel",
            "_view_count": null,
            "_view_module": "@jupyter-widgets/controls",
            "_view_module_version": "1.5.0",
            "_view_name": "HTMLView",
            "description": "",
            "description_tooltip": null,
            "layout": "IPY_MODEL_3b327409e71247b888cb2a8f96786cf4",
            "placeholder": "​",
            "style": "IPY_MODEL_551690f8fe284af694926435989fde0f",
            "value": "Downloading data: 100%"
          }
        },
        "a53772bc686c46cab5382ea31d10dc2c": {
          "model_module": "@jupyter-widgets/controls",
          "model_module_version": "1.5.0",
          "model_name": "DescriptionStyleModel",
          "state": {
            "_model_module": "@jupyter-widgets/controls",
            "_model_module_version": "1.5.0",
            "_model_name": "DescriptionStyleModel",
            "_view_count": null,
            "_view_module": "@jupyter-widgets/base",
            "_view_module_version": "1.2.0",
            "_view_name": "StyleView",
            "description_width": ""
          }
        },
        "a941be09290a4a2b9a9bdfd05a82614a": {
          "model_module": "@jupyter-widgets/controls",
          "model_module_version": "1.5.0",
          "model_name": "HTMLModel",
          "state": {
            "_dom_classes": [],
            "_model_module": "@jupyter-widgets/controls",
            "_model_module_version": "1.5.0",
            "_model_name": "HTMLModel",
            "_view_count": null,
            "_view_module": "@jupyter-widgets/controls",
            "_view_module_version": "1.5.0",
            "_view_name": "HTMLView",
            "description": "",
            "description_tooltip": null,
            "layout": "IPY_MODEL_5cf9a7cdfca14ec38f7f5a9d35b3f73f",
            "placeholder": "​",
            "style": "IPY_MODEL_2aa93e9993fc48e1883544d1dc7b0f63",
            "value": " 8.07k/8.07k [00:00&lt;00:00, 119kB/s]"
          }
        },
        "aa9e0f9cf12d4bd9ae46c31e35e094a3": {
          "model_module": "@jupyter-widgets/controls",
          "model_module_version": "1.5.0",
          "model_name": "DescriptionStyleModel",
          "state": {
            "_model_module": "@jupyter-widgets/controls",
            "_model_module_version": "1.5.0",
            "_model_name": "DescriptionStyleModel",
            "_view_count": null,
            "_view_module": "@jupyter-widgets/base",
            "_view_module_version": "1.2.0",
            "_view_name": "StyleView",
            "description_width": ""
          }
        },
        "b6796f6bdccc46c79d94324578d517b8": {
          "model_module": "@jupyter-widgets/base",
          "model_module_version": "1.2.0",
          "model_name": "LayoutModel",
          "state": {
            "_model_module": "@jupyter-widgets/base",
            "_model_module_version": "1.2.0",
            "_model_name": "LayoutModel",
            "_view_count": null,
            "_view_module": "@jupyter-widgets/base",
            "_view_module_version": "1.2.0",
            "_view_name": "LayoutView",
            "align_content": null,
            "align_items": null,
            "align_self": null,
            "border": null,
            "bottom": null,
            "display": null,
            "flex": null,
            "flex_flow": null,
            "grid_area": null,
            "grid_auto_columns": null,
            "grid_auto_flow": null,
            "grid_auto_rows": null,
            "grid_column": null,
            "grid_gap": null,
            "grid_row": null,
            "grid_template_areas": null,
            "grid_template_columns": null,
            "grid_template_rows": null,
            "height": null,
            "justify_content": null,
            "justify_items": null,
            "left": null,
            "margin": null,
            "max_height": null,
            "max_width": null,
            "min_height": null,
            "min_width": null,
            "object_fit": null,
            "object_position": null,
            "order": null,
            "overflow": null,
            "overflow_x": null,
            "overflow_y": null,
            "padding": null,
            "right": null,
            "top": null,
            "visibility": null,
            "width": null
          }
        },
        "bf7ef185e7b349e59528ea5caebd7e67": {
          "model_module": "@jupyter-widgets/base",
          "model_module_version": "1.2.0",
          "model_name": "LayoutModel",
          "state": {
            "_model_module": "@jupyter-widgets/base",
            "_model_module_version": "1.2.0",
            "_model_name": "LayoutModel",
            "_view_count": null,
            "_view_module": "@jupyter-widgets/base",
            "_view_module_version": "1.2.0",
            "_view_name": "LayoutView",
            "align_content": null,
            "align_items": null,
            "align_self": null,
            "border": null,
            "bottom": null,
            "display": null,
            "flex": null,
            "flex_flow": null,
            "grid_area": null,
            "grid_auto_columns": null,
            "grid_auto_flow": null,
            "grid_auto_rows": null,
            "grid_column": null,
            "grid_gap": null,
            "grid_row": null,
            "grid_template_areas": null,
            "grid_template_columns": null,
            "grid_template_rows": null,
            "height": null,
            "justify_content": null,
            "justify_items": null,
            "left": null,
            "margin": null,
            "max_height": null,
            "max_width": null,
            "min_height": null,
            "min_width": null,
            "object_fit": null,
            "object_position": null,
            "order": null,
            "overflow": null,
            "overflow_x": null,
            "overflow_y": null,
            "padding": null,
            "right": null,
            "top": null,
            "visibility": null,
            "width": null
          }
        },
        "c2374e6d3d724de297a1bb3c9726c6e5": {
          "model_module": "@jupyter-widgets/controls",
          "model_module_version": "1.5.0",
          "model_name": "HTMLModel",
          "state": {
            "_dom_classes": [],
            "_model_module": "@jupyter-widgets/controls",
            "_model_module_version": "1.5.0",
            "_model_name": "HTMLModel",
            "_view_count": null,
            "_view_module": "@jupyter-widgets/controls",
            "_view_module_version": "1.5.0",
            "_view_name": "HTMLView",
            "description": "",
            "description_tooltip": null,
            "layout": "IPY_MODEL_52e142f079e043f5b3046581ff2e05bd",
            "placeholder": "​",
            "style": "IPY_MODEL_55ae1b96110a4c7fa852c4c6093b45a1",
            "value": "Downloading data: 100%"
          }
        },
        "c9a81a71d0bb46e4bd812ae5c98a5423": {
          "model_module": "@jupyter-widgets/controls",
          "model_module_version": "1.5.0",
          "model_name": "HTMLModel",
          "state": {
            "_dom_classes": [],
            "_model_module": "@jupyter-widgets/controls",
            "_model_module_version": "1.5.0",
            "_model_name": "HTMLModel",
            "_view_count": null,
            "_view_module": "@jupyter-widgets/controls",
            "_view_module_version": "1.5.0",
            "_view_name": "HTMLView",
            "description": "",
            "description_tooltip": null,
            "layout": "IPY_MODEL_2c5421963a7441d98990fb876ad06aed",
            "placeholder": "​",
            "style": "IPY_MODEL_6bfff95e6e364731bc831384652e6ae9",
            "value": "Generating train split: 100%"
          }
        },
        "cf406ca0f811449db293f135eb96b33c": {
          "model_module": "@jupyter-widgets/base",
          "model_module_version": "1.2.0",
          "model_name": "LayoutModel",
          "state": {
            "_model_module": "@jupyter-widgets/base",
            "_model_module_version": "1.2.0",
            "_model_name": "LayoutModel",
            "_view_count": null,
            "_view_module": "@jupyter-widgets/base",
            "_view_module_version": "1.2.0",
            "_view_name": "LayoutView",
            "align_content": null,
            "align_items": null,
            "align_self": null,
            "border": null,
            "bottom": null,
            "display": null,
            "flex": null,
            "flex_flow": null,
            "grid_area": null,
            "grid_auto_columns": null,
            "grid_auto_flow": null,
            "grid_auto_rows": null,
            "grid_column": null,
            "grid_gap": null,
            "grid_row": null,
            "grid_template_areas": null,
            "grid_template_columns": null,
            "grid_template_rows": null,
            "height": null,
            "justify_content": null,
            "justify_items": null,
            "left": null,
            "margin": null,
            "max_height": null,
            "max_width": null,
            "min_height": null,
            "min_width": null,
            "object_fit": null,
            "object_position": null,
            "order": null,
            "overflow": null,
            "overflow_x": null,
            "overflow_y": null,
            "padding": null,
            "right": null,
            "top": null,
            "visibility": null,
            "width": null
          }
        },
        "d448ee2263fd433b9ed30d1d9743cce0": {
          "model_module": "@jupyter-widgets/controls",
          "model_module_version": "1.5.0",
          "model_name": "HTMLModel",
          "state": {
            "_dom_classes": [],
            "_model_module": "@jupyter-widgets/controls",
            "_model_module_version": "1.5.0",
            "_model_name": "HTMLModel",
            "_view_count": null,
            "_view_module": "@jupyter-widgets/controls",
            "_view_module_version": "1.5.0",
            "_view_name": "HTMLView",
            "description": "",
            "description_tooltip": null,
            "layout": "IPY_MODEL_cf406ca0f811449db293f135eb96b33c",
            "placeholder": "​",
            "style": "IPY_MODEL_a53772bc686c46cab5382ea31d10dc2c",
            "value": "Generating test split: 100%"
          }
        },
        "da5ec38da9fa456e97795205a91ab465": {
          "model_module": "@jupyter-widgets/controls",
          "model_module_version": "1.5.0",
          "model_name": "ProgressStyleModel",
          "state": {
            "_model_module": "@jupyter-widgets/controls",
            "_model_module_version": "1.5.0",
            "_model_name": "ProgressStyleModel",
            "_view_count": null,
            "_view_module": "@jupyter-widgets/base",
            "_view_module_version": "1.2.0",
            "_view_name": "StyleView",
            "bar_color": null,
            "description_width": ""
          }
        },
        "dc2f968d4f8c40df9a6d316bad20404c": {
          "model_module": "@jupyter-widgets/controls",
          "model_module_version": "1.5.0",
          "model_name": "HBoxModel",
          "state": {
            "_dom_classes": [],
            "_model_module": "@jupyter-widgets/controls",
            "_model_module_version": "1.5.0",
            "_model_name": "HBoxModel",
            "_view_count": null,
            "_view_module": "@jupyter-widgets/controls",
            "_view_module_version": "1.5.0",
            "_view_name": "HBoxView",
            "box_style": "",
            "children": [
              "IPY_MODEL_c9a81a71d0bb46e4bd812ae5c98a5423",
              "IPY_MODEL_3b83faadcb9f4a9d9a5f4dceb0e23280",
              "IPY_MODEL_43c1202f51e04bd1aaebed21654b786b"
            ],
            "layout": "IPY_MODEL_f68864e6da90405c88fb521dd84ba2a8"
          }
        },
        "e18295246d3049579adf5eed0396a121": {
          "model_module": "@jupyter-widgets/base",
          "model_module_version": "1.2.0",
          "model_name": "LayoutModel",
          "state": {
            "_model_module": "@jupyter-widgets/base",
            "_model_module_version": "1.2.0",
            "_model_name": "LayoutModel",
            "_view_count": null,
            "_view_module": "@jupyter-widgets/base",
            "_view_module_version": "1.2.0",
            "_view_name": "LayoutView",
            "align_content": null,
            "align_items": null,
            "align_self": null,
            "border": null,
            "bottom": null,
            "display": null,
            "flex": null,
            "flex_flow": null,
            "grid_area": null,
            "grid_auto_columns": null,
            "grid_auto_flow": null,
            "grid_auto_rows": null,
            "grid_column": null,
            "grid_gap": null,
            "grid_row": null,
            "grid_template_areas": null,
            "grid_template_columns": null,
            "grid_template_rows": null,
            "height": null,
            "justify_content": null,
            "justify_items": null,
            "left": null,
            "margin": null,
            "max_height": null,
            "max_width": null,
            "min_height": null,
            "min_width": null,
            "object_fit": null,
            "object_position": null,
            "order": null,
            "overflow": null,
            "overflow_x": null,
            "overflow_y": null,
            "padding": null,
            "right": null,
            "top": null,
            "visibility": null,
            "width": null
          }
        },
        "e2393140f8014203b1771c54b435f262": {
          "model_module": "@jupyter-widgets/controls",
          "model_module_version": "1.5.0",
          "model_name": "ProgressStyleModel",
          "state": {
            "_model_module": "@jupyter-widgets/controls",
            "_model_module_version": "1.5.0",
            "_model_name": "ProgressStyleModel",
            "_view_count": null,
            "_view_module": "@jupyter-widgets/base",
            "_view_module_version": "1.2.0",
            "_view_name": "StyleView",
            "bar_color": null,
            "description_width": ""
          }
        },
        "e87c1fb12a9f40da9edbd8694fbdc862": {
          "model_module": "@jupyter-widgets/controls",
          "model_module_version": "1.5.0",
          "model_name": "FloatProgressModel",
          "state": {
            "_dom_classes": [],
            "_model_module": "@jupyter-widgets/controls",
            "_model_module_version": "1.5.0",
            "_model_name": "FloatProgressModel",
            "_view_count": null,
            "_view_module": "@jupyter-widgets/controls",
            "_view_module_version": "1.5.0",
            "_view_name": "ProgressView",
            "bar_style": "success",
            "description": "",
            "description_tooltip": null,
            "layout": "IPY_MODEL_352cdd097d71427aaa638f8a1fe70f67",
            "max": 7600,
            "min": 0,
            "orientation": "horizontal",
            "style": "IPY_MODEL_4cb0b035b4c14ee7999fc0de93d24479",
            "value": 7600
          }
        },
        "edb12634462049aca8efd00fb6db59a0": {
          "model_module": "@jupyter-widgets/base",
          "model_module_version": "1.2.0",
          "model_name": "LayoutModel",
          "state": {
            "_model_module": "@jupyter-widgets/base",
            "_model_module_version": "1.2.0",
            "_model_name": "LayoutModel",
            "_view_count": null,
            "_view_module": "@jupyter-widgets/base",
            "_view_module_version": "1.2.0",
            "_view_name": "LayoutView",
            "align_content": null,
            "align_items": null,
            "align_self": null,
            "border": null,
            "bottom": null,
            "display": null,
            "flex": null,
            "flex_flow": null,
            "grid_area": null,
            "grid_auto_columns": null,
            "grid_auto_flow": null,
            "grid_auto_rows": null,
            "grid_column": null,
            "grid_gap": null,
            "grid_row": null,
            "grid_template_areas": null,
            "grid_template_columns": null,
            "grid_template_rows": null,
            "height": null,
            "justify_content": null,
            "justify_items": null,
            "left": null,
            "margin": null,
            "max_height": null,
            "max_width": null,
            "min_height": null,
            "min_width": null,
            "object_fit": null,
            "object_position": null,
            "order": null,
            "overflow": null,
            "overflow_x": null,
            "overflow_y": null,
            "padding": null,
            "right": null,
            "top": null,
            "visibility": null,
            "width": null
          }
        },
        "f68864e6da90405c88fb521dd84ba2a8": {
          "model_module": "@jupyter-widgets/base",
          "model_module_version": "1.2.0",
          "model_name": "LayoutModel",
          "state": {
            "_model_module": "@jupyter-widgets/base",
            "_model_module_version": "1.2.0",
            "_model_name": "LayoutModel",
            "_view_count": null,
            "_view_module": "@jupyter-widgets/base",
            "_view_module_version": "1.2.0",
            "_view_name": "LayoutView",
            "align_content": null,
            "align_items": null,
            "align_self": null,
            "border": null,
            "bottom": null,
            "display": null,
            "flex": null,
            "flex_flow": null,
            "grid_area": null,
            "grid_auto_columns": null,
            "grid_auto_flow": null,
            "grid_auto_rows": null,
            "grid_column": null,
            "grid_gap": null,
            "grid_row": null,
            "grid_template_areas": null,
            "grid_template_columns": null,
            "grid_template_rows": null,
            "height": null,
            "justify_content": null,
            "justify_items": null,
            "left": null,
            "margin": null,
            "max_height": null,
            "max_width": null,
            "min_height": null,
            "min_width": null,
            "object_fit": null,
            "object_position": null,
            "order": null,
            "overflow": null,
            "overflow_x": null,
            "overflow_y": null,
            "padding": null,
            "right": null,
            "top": null,
            "visibility": null,
            "width": null
          }
        },
        "f7a0bc5d86af4bcebf72ba99ec4eadfd": {
          "model_module": "@jupyter-widgets/controls",
          "model_module_version": "1.5.0",
          "model_name": "HTMLModel",
          "state": {
            "_dom_classes": [],
            "_model_module": "@jupyter-widgets/controls",
            "_model_module_version": "1.5.0",
            "_model_name": "HTMLModel",
            "_view_count": null,
            "_view_module": "@jupyter-widgets/controls",
            "_view_module_version": "1.5.0",
            "_view_name": "HTMLView",
            "description": "",
            "description_tooltip": null,
            "layout": "IPY_MODEL_5fdde4bf78d744c692e18ebfc13577b0",
            "placeholder": "​",
            "style": "IPY_MODEL_516d6a835fe441109cf603fce264033e",
            "value": " 18.6M/18.6M [00:00&lt;00:00, 29.6MB/s]"
          }
        },
        "f879c65d761b49099d7d08f382d8c97f": {
          "model_module": "@jupyter-widgets/controls",
          "model_module_version": "1.5.0",
          "model_name": "ProgressStyleModel",
          "state": {
            "_model_module": "@jupyter-widgets/controls",
            "_model_module_version": "1.5.0",
            "_model_name": "ProgressStyleModel",
            "_view_count": null,
            "_view_module": "@jupyter-widgets/base",
            "_view_module_version": "1.2.0",
            "_view_name": "StyleView",
            "bar_color": null,
            "description_width": ""
          }
        },
        "fa31643070a744b8829c751187bd0467": {
          "model_module": "@jupyter-widgets/controls",
          "model_module_version": "1.5.0",
          "model_name": "HTMLModel",
          "state": {
            "_dom_classes": [],
            "_model_module": "@jupyter-widgets/controls",
            "_model_module_version": "1.5.0",
            "_model_name": "HTMLModel",
            "_view_count": null,
            "_view_module": "@jupyter-widgets/controls",
            "_view_module_version": "1.5.0",
            "_view_name": "HTMLView",
            "description": "",
            "description_tooltip": null,
            "layout": "IPY_MODEL_2a1ddf53bc6a4513935ac2ede7be90da",
            "placeholder": "​",
            "style": "IPY_MODEL_aa9e0f9cf12d4bd9ae46c31e35e094a3",
            "value": " 7600/7600 [00:00&lt;00:00, 99561.52 examples/s]"
          }
        }
      }
    }
  },
  "nbformat": 4,
  "nbformat_minor": 0
}
